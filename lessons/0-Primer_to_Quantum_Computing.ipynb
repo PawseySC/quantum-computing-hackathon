{
 "cells": [
  {
   "cell_type": "markdown",
   "metadata": {},
   "source": [
    "# Quantum Computing Concepts Primer"
   ]
  },
  {
   "cell_type": "markdown",
   "metadata": {},
   "source": [
    "## Overview \n",
    "\n",
    "This notebook provides an introduction to some basic quantum computing concepts.\n",
    "\n",
    "### Learning Objects \n",
    "\n",
    "After using this notebook you should have an understanding of \n",
    "\n",
    "* What is the Python programming language.\n",
    "* What are *qubits* and why they are different from classical binary bits.\n",
    "* What is *superposition*.\n",
    "* What is *interference & entanglement*.\n"
   ]
  },
  {
   "cell_type": "markdown",
   "metadata": {},
   "source": [
    "## Python Refresher \n",
    "\n",
    "Python is an interpreted, high-level, and general-purpose programming language created by Guido van Rossum and first released in 1991. It emphasizes readability and simplicity, making it ideal for both beginners and experienced developers. Python supports multiple programming paradigms, including procedural, object-oriented, and functional programming. It's widely used for web development, data analysis, artificial intelligence, scientific computing, and more due to its extensive standard library and community support. \n",
    "\n",
    "\n",
    "### Examples\n",
    "\n",
    "We do not provide an introduction to the Python programming lanuage but quickly refresh some relevant examples below.\n",
    "\n",
    "1. How to print hello\n",
    "   ```python\n",
    "   print(\"Hello, World!\")\n",
    "   ```\n",
    "2. How to declare some variables and doing some mathematical operations\n",
    "   ```python\n",
    "   a = 5\n",
    "   b = 3\n",
    "   sum = a + b\n",
    "   print(\"Sum:\", sum)\n",
    "   ```\n",
    "3. How to define a function\n",
    "   ```python\n",
    "   def greet(name):\n",
    "     return f\"Hello, {name}!\"\n",
    "   print(greet(\"Alice\"))\n",
    "   ```\n",
    "4. How to import a library\n",
    "   ```python\n",
    "   # import the numerical library of python\n",
    "   import numpy as np \n",
    "   # create an array of ones of size 5, ie: [1,1,1,1,1]\n",
    "   x = np.ones(5)\n",
    "   print(x)\n",
    "   ```\n"
   ]
  },
  {
   "cell_type": "markdown",
   "metadata": {
    "id": "2zoa7nVZshfF"
   },
   "source": [
    "## Qubits\n",
    "\n",
    "![1 Bit and Qubits](figs/bitqubitsmall.png \"1 Classical Bit compared to Quantum Bit or Qubit\")\n",
    "\n",
    "Before discussing a quantum bit, so-called *qubit*, it is important to understand how *classical* computers like the one running this notebook operate and what a classical binary bit is. \n",
    "\n",
    "### Classical Bit \n",
    "A bit is a digital representation of either 0 *or* 1. This simple bit can be used to represent a number of numbers (see [https://en.wikipedia.org/wiki/Binary_number]). The binary representation of numbers such as 12 can be done by combining several bits together. In the case of 4 bits, you can view the combination as a sum where each bit represents a power of 2: the first bit being indicating an on/off of $2^0=1$; second bit $2^1=2$; third $2^2=4$; fourth $2^3=8$. \n",
    "\n",
    "#### Examples \n",
    "* 0000: This represents the decimal number 0 as you have $0\\times2^{0}+0\\times2^{1}+0\\times2^{2}+0\\times2^{3}$.\n",
    "* 0001: This represents the decimal number 1.\n",
    "* 0010: This represents the decimal number 2.\n",
    "* 0100: This represents the decimal number 4.\n",
    "* 1010: This represents the decimal number 10 as you have $0\\times2^{0}+1\\times2^{1}+0\\times2^{2}+1\\times2^{3} = 2+8 = 10$.\n",
    "\n",
    "*What is 12?*\n",
    "\n",
    "### Quantum Bit\n",
    "A qubit is a fundamental unit of quantum information, analogous to the classical bit. However, here the quantum state holding the information can exist in a *superposition* of states, meaning they can be 0, 1, or ***both 0 and 1 simultaneously***! \n",
    "\n",
    "\n",
    "This means that a qubit can store more information than a classical bit, exponentially more information. For instance to store the information in 4-qubit structure, storing all the various possible values, you need $2^{4}=32$ bits. That may not seem like much but when you get large number of qubits, say 100 qubits, you would need $2^{100}=1,267,650,600,228,229,401,496,703,205,376$ bits, which is roughly a thousand, billion, billon Gigabytes of memory!\n",
    "\n",
    "Often you'll see that qubits are written a little differently (using the so-called *braket* or *Dirac* notation). The 0-state is often written as $\\ket{0}$ and 1 as $\\ket{1}$. A 4-bit qubit, with qubits $q_0, q_1, q_2, q_3$ is $\\ket{q_1q_2q_3q_4}$. \n",
    "\n",
    "\n",
    "*For more information, see [wikipedia](https://en.wikipedia.org/wiki/Qubit).*"
   ]
  },
  {
   "cell_type": "markdown",
   "metadata": {},
   "source": [
    "## Quantum Superposition & Measurement\n",
    "\n",
    "![2 Superposition](figs/superposition.png \"2 Superposition of wave-function\")\n",
    "\n",
    "Superposition is one of the core principles of quantum mechanics and, by extension, quantum computing, which states that a qubit can be in both 0 and 1 states at the same time$^\\dagger$. For a *qubit* $\\ket{\\Psi}$ in general superposition, one can think of it as,\n",
    "$$\n",
    "\\ket{\\Psi} = c_0\\ket{0}+c_1\\ket{1}\n",
    "$$\n",
    "\n",
    "This mixed state is **NOT** directly measured. Instead measurement of a qubit will return a $\\ket{0}$ **or** $\\ket{1}$, *not both*.\n",
    "\n",
    "*How do you know the qubit was in a mixed state before the measurement occurs?* **By repeating the experiment and measurment.** You will see that the qubit will be 0 or 1 with the probability being $c_0\\times c_0$ or $c_1\\times c_1$ respectively.\n",
    "\n",
    "> $\\dagger$ Specifically linear combinations of solutions to the *Schrödinger equation* governing the evolution of quantum systems are also solutions of the Schrödinger equation. The state of a system is given by a linear combination of all the eigenfunctions of the Schrödinger equation governing that system.\n",
    "\n",
    "A commonly used superposition state is one of *equal* superposition where $c_0 = c_1 = c = \\tfrac{1}{\\sqrt{2}}$. That is the probabilty of getting a 0 is the same, you'll get one or the other $50\\%$ of the time (like a coin flip).\n",
    "$$\n",
    "\\ket{\\Psi} = c\\bigl(\\ket{0} + \\ket{1}\\bigr)\n",
    "$$\n",
    "\n",
    "Now it is important to realise that this mixed state is NOT directly measured (that is you don't see the coin land on its edge). Instead, if you didn't know the state of the system, you would have to *measure* or observe it over and over again and see that you would get $\\ket{0}$ sometimes and $\\ket{1}$ other times. Think of a spinning coin that when you catch it, it has a specific state.\n",
    "\n",
    "*For more information, see [wikipedia](https://en.wikipedia.org/wiki/Quantum_superposition).*"
   ]
  },
  {
   "cell_type": "markdown",
   "metadata": {
    "id": "hF3tcJCE3YyE"
   },
   "source": [
    "## Quantum Interference & Entanglement \n",
    "\n",
    "![3 Superposition](figs/entanglement.png \"3 Two Qubit entangled wave-function\")\n",
    "\n",
    "Quantum entanglement is the a unique feature of quantum mechanics (the physics that governs the small-scale universe) that not present in classical mechanics that well describes our day-to-day world (cars, planes, footballs). The phenomenon is when quantum states are interacting in such a way that the quantum state of each particle of the group cannot be described independently of the state of the others, even when particles are separated by a large distance. It is often referred to as a \"spooky-action-at-a-distance\" but there is nothing ghostly about it. \n",
    "\n",
    "### The Qubit perspective \n",
    "\n",
    "Let's think about *qubits*. If we have two qubits $\\ket{q_1}$ \\& $\\ket{q_2}$ and a total system state of $\\ket{\\Psi} = \\ket{q_1q_2}$. Now if qubit 1 was in the $\\ket{0}$ state and qubit 2 was in $\\ket{1}$, then the total system state is written as \n",
    "$$\n",
    "\\ket{\\Psi} = \\ket{q_1q_2} = \\ket{01}\n",
    "$$\n",
    "\n",
    "If instead these qubits were in both in *equal* superposition then you would have \n",
    "$$\n",
    "\\ket{\\Psi} = \\ket{q_1q_2} = \\tfrac{1}{2}\\bigl(\\ket{00}+ \\ket{01}+\\ket{10}+\\ket{11}\\bigr)\n",
    "$$\n",
    "and you would get state $\\ket{00}$ $25\\%$ of the time, $\\ket{01}$ $25\\%$ of the time and so on, as if you were flipping two independent coins. \n",
    "\n",
    "But what happens if we ***entangle*** these states such that if qubit 2 is linked to the state of qubit 1?\n",
    "\n",
    "Let's suppose that if you measure a $\\ket{0}$ for qubit 1, you measure a $\\ket{0}$ for qubit 2 (that is the coins are linked). In this scenario, $\\ket{q_1}=\\ket{1}$ would mean you would get $\\ket{q_2}=\\ket{1}$. In this case we cannot get the mixed states $\\ket{01}$ and $\\ket{10}$ because the qubits are entangled. \n",
    "\n",
    "Now consider these qubits if qubit 1 was in *equal* superposition, and qubit 2 is in $\\ket{0}$, then you couldn't get $\\ket{11}$. But because of the entanglement, the total state of the system, $\\ket{\\Psi}$ is \n",
    "$$\n",
    "\\ket{\\Psi} = \\ket{q_1q_2} = c\\bigl(\\ket{00}+\\ket{11}\\bigr)\n",
    "$$\n",
    "\n",
    "*For more information, see [wikipedia](https://en.wikipedia.org/wiki/Quantum_entanglement).*"
   ]
  },
  {
   "cell_type": "markdown",
   "metadata": {},
   "source": [
    "## Quantum Circuits\n",
    "\n",
    "In standard computing you write a computer program that can executed by a classical computer. These programs can consist of many different steps and you can often jump around in the steps (for instance do and undo) and these can be done interactively.\n",
    "\n",
    "Quantum programs (or algorithms) are a bit different as it can be tricky to dynamically interact with the quantum system without ruining the qubits. It is also challenging to visualise what is happening in a quantum program and we often visualise what is happening using a  *quantum circuit*. An example of a quantum circuit is shown below. \n",
    "\n",
    "![3 Qubit Circuit](figs/simple_circuit_annotated_small.png \"3 Qubit circuit\")\n",
    "\n",
    "This shows the evolution of qubits as a single line going from left to right. If you ever see a doubled lines that represent a classical bit. Quantum gates are shows as symbols on the line and the entire program is this sequence of operations on qubits.  These lines define the sequence of events, and are usually not physical cables. \n",
    "\n",
    "This is a nice way fo visualising a quantum program as it can show what happens to a given qubit and also which qubits are interacting (as shown by vertical lines with symbols ending on the qubit lines). \n",
    "\n",
    "Below is a way of making a nice visualisation of a quantum circuit where the point at which you are on the circuit is highlighted. \n",
    "\n",
    "*Don't worry about the details yet, let's just enjoy*"
   ]
  },
  {
   "cell_type": "code",
   "execution_count": 3,
   "metadata": {
    "scrolled": true
   },
   "outputs": [
    {
     "name": "stderr",
     "output_type": "stream",
     "text": [
      "Exception in thread Exception in thread timidity-7:\n",
      "Traceback (most recent call last):\n",
      "  File \"/Users/ela017/.pyenv/versions/3.9.4/lib/python3.9/threading.py\", line 954, in _bootstrap_inner\n",
      "Exception in thread timidity-6:\n",
      "Traceback (most recent call last):\n",
      "  File \"/Users/ela017/.pyenv/versions/3.9.4/lib/python3.9/threading.py\", line 954, in _bootstrap_inner\n",
      "Exception in thread timidity-4:\n",
      "Traceback (most recent call last):\n",
      "  File \"/Users/ela017/.pyenv/versions/3.9.4/lib/python3.9/threading.py\", line 954, in _bootstrap_inner\n",
      "Exception in thread timidity-5:\n",
      "Traceback (most recent call last):\n",
      "  File \"/Users/ela017/.pyenv/versions/3.9.4/lib/python3.9/threading.py\", line 954, in _bootstrap_inner\n",
      "Exception in thread timidity-1:\n",
      "Traceback (most recent call last):\n",
      "  File \"/Users/ela017/.pyenv/versions/3.9.4/lib/python3.9/threading.py\", line 954, in _bootstrap_inner\n",
      "Exception in thread timidity-3:\n",
      "Traceback (most recent call last):\n",
      "  File \"/Users/ela017/.pyenv/versions/3.9.4/lib/python3.9/threading.py\", line 954, in _bootstrap_inner\n",
      "Exception in thread timidity-0:\n",
      "Traceback (most recent call last):\n",
      "  File \"/Users/ela017/.pyenv/versions/3.9.4/lib/python3.9/threading.py\", line 954, in _bootstrap_inner\n",
      "timidity-2:\n",
      "Traceback (most recent call last):\n",
      "  File \"/Users/ela017/.pyenv/versions/3.9.4/lib/python3.9/threading.py\", line 954, in _bootstrap_inner\n",
      "    self.run()\n",
      "  File \"/Users/ela017/.pyenv/versions/3.9.4/lib/python3.9/threading.py\", line 892, in run\n",
      "    self.run()\n",
      "  File \"/Users/ela017/.pyenv/versions/3.9.4/lib/python3.9/threading.py\", line 892, in run\n",
      "    self.run()\n",
      "  File \"/Users/ela017/.pyenv/versions/3.9.4/lib/python3.9/threading.py\", line 892, in run\n",
      "    self.run()\n",
      "  File \"/Users/ela017/.pyenv/versions/3.9.4/lib/python3.9/threading.py\", line 892, in run\n",
      "    self.run()\n",
      "  File \"/Users/ela017/.pyenv/versions/3.9.4/lib/python3.9/threading.py\", line 892, in run\n",
      "    self._target(*self._args, **self._kwargs)\n",
      "  File \"/Users/ela017/software/pyvenv/lib/python3.9/site-packages/qmuvi/musical_processing.py\", line 466, in timidity_convert_subprocess\n",
      "    self.run()\n",
      "  File \"/Users/ela017/.pyenv/versions/3.9.4/lib/python3.9/threading.py\", line 892, in run\n",
      "    self.run()\n",
      "  File \"/Users/ela017/.pyenv/versions/3.9.4/lib/python3.9/threading.py\", line 892, in run\n",
      "    self._target(*self._args, **self._kwargs)\n",
      "  File \"/Users/ela017/software/pyvenv/lib/python3.9/site-packages/qmuvi/musical_processing.py\", line 466, in timidity_convert_subprocess\n",
      "    self._target(*self._args, **self._kwargs)\n",
      "  File \"/Users/ela017/software/pyvenv/lib/python3.9/site-packages/qmuvi/musical_processing.py\", line 466, in timidity_convert_subprocess\n",
      "    self._target(*self._args, **self._kwargs)\n",
      "  File \"/Users/ela017/software/pyvenv/lib/python3.9/site-packages/qmuvi/musical_processing.py\", line 466, in timidity_convert_subprocess\n",
      "    self._target(*self._args, **self._kwargs)\n",
      "  File \"/Users/ela017/software/pyvenv/lib/python3.9/site-packages/qmuvi/musical_processing.py\", line 466, in timidity_convert_subprocess\n",
      "    self._target(*self._args, **self._kwargs)\n",
      "  File \"/Users/ela017/software/pyvenv/lib/python3.9/site-packages/qmuvi/musical_processing.py\", line 466, in timidity_convert_subprocess\n",
      "    log.info(thread_results[thread_index].stdout.decode())\n",
      "AttributeError: 'NoneType' object has no attribute 'stdout'\n",
      "    self._target(*self._args, **self._kwargs)\n",
      "  File \"/Users/ela017/software/pyvenv/lib/python3.9/site-packages/qmuvi/musical_processing.py\", line 466, in timidity_convert_subprocess\n",
      "    log.info(thread_results[thread_index].stdout.decode())\n",
      "AttributeError: 'NoneType' object has no attribute 'stdout'\n",
      "    self.run()\n",
      "  File \"/Users/ela017/.pyenv/versions/3.9.4/lib/python3.9/threading.py\", line 892, in run\n",
      "    log.info(thread_results[thread_index].stdout.decode())\n",
      "AttributeError: 'NoneType' object has no attribute 'stdout'\n",
      "        log.info(thread_results[thread_index].stdout.decode())\n",
      "AttributeError: 'NoneType' object has no attribute 'stdout'\n",
      "    log.info(thread_results[thread_index].stdout.decode())\n",
      "AttributeError: 'NoneType' object has no attribute 'stdout'\n",
      "log.info(thread_results[thread_index].stdout.decode())\n",
      "AttributeError: 'NoneType' object has no attribute 'stdout'\n",
      "    self._target(*self._args, **self._kwargs)\n",
      "  File \"/Users/ela017/software/pyvenv/lib/python3.9/site-packages/qmuvi/musical_processing.py\", line 466, in timidity_convert_subprocess\n",
      "        log.info(thread_results[thread_index].stdout.decode())\n",
      "AttributeError: 'NoneType' object has no attribute 'stdout'\n",
      "log.info(thread_results[thread_index].stdout.decode())\n",
      "AttributeError: 'NoneType' object has no attribute 'stdout'\n"
     ]
    },
    {
     "name": "stdout",
     "output_type": "stream",
     "text": [
      "Generating qMuVi data...\n",
      "Generating MIDI track files...\n",
      "Converting to .wav files using TiMidity++\n",
      "Errors in thread 0:\n"
     ]
    },
    {
     "ename": "CalledProcessError",
     "evalue": "Command '['/Users/ela017/software/pyvenv/lib/python3.9/site-packages/qmuvi/package_data/binaries/TiMidity-2.15.0/macos/timidity', '-Ow', '--verbose=3', '--preserve-silence', '-A,120', '--no-anti-alias', '--mod-wheel', '--portamento', '--vibrato', '--no-ch-pressure', '--mod-envelope', '--trace-text-meta', '--overlap-voice', '--default-bank=0', '--default-program=0', '--delay=d,0', '--chorus=n,64', '--reverb=f,40,0.28,0.7,100', '--voice-lpf=c', '--noise-shaping=4', '--resample=5', '--voice-queue=0', '--decay-time=0', '--interpolation=gauss', '-EFresamp=34', '--output-stereo', '--output-24bit', '--polyphony=15887', '--sampling-freq=44100', '--volume-curve=1.661', '--config-file=\"/Users/ela017/software/pyvenv/lib/python3.9/site-packages/qmuvi/package_data/resources/timidity/timidity.cfg\"', '-o', '\"/Users/ela017/myresearch/quantumcomputing/quantum-computing-hackathon/lessons/bell_state-output-7/bell_state-4.wav\"', '\"/Users/ela017/myresearch/quantumcomputing/quantum-computing-hackathon/lessons/bell_state-output-7/bell_state-4.mid\"']' returned non-zero exit status 1.",
     "output_type": "error",
     "traceback": [
      "\u001b[0;31m---------------------------------------------------------------------------\u001b[0m",
      "\u001b[0;31mCalledProcessError\u001b[0m                        Traceback (most recent call last)",
      "Cell \u001b[0;32mIn[3], line 11\u001b[0m\n\u001b[1;32m      8\u001b[0m circ\u001b[38;5;241m.\u001b[39mcx(\u001b[38;5;241m0\u001b[39m, \u001b[38;5;241m1\u001b[39m)\n\u001b[1;32m      9\u001b[0m circ\u001b[38;5;241m.\u001b[39mbarrier()\n\u001b[0;32m---> 11\u001b[0m \u001b[43mqmuvi\u001b[49m\u001b[38;5;241;43m.\u001b[39;49m\u001b[43mgenerate_qmuvi\u001b[49m\u001b[43m(\u001b[49m\u001b[43mcirc\u001b[49m\u001b[43m,\u001b[49m\u001b[43m \u001b[49m\u001b[38;5;124;43m\"\u001b[39;49m\u001b[38;5;124;43mbell_state\u001b[39;49m\u001b[38;5;124;43m\"\u001b[39;49m\u001b[43m,\u001b[49m\u001b[43m \u001b[49m\u001b[43mlog_to_file\u001b[49m\u001b[38;5;241;43m=\u001b[39;49m\u001b[38;5;28;43;01mTrue\u001b[39;49;00m\u001b[43m)\u001b[49m\n",
      "File \u001b[0;32m~/software/pyvenv/lib/python3.9/site-packages/qmuvi/__init__.py:164\u001b[0m, in \u001b[0;36mgenerate_qmuvi\u001b[0;34m(quantum_circuit, qmuvi_name, noise_model, rhythm, instruments, note_map, invert_colours, fps, vpr, smooth_transitions, log_to_file, show_measured_probabilities_only, output_dir)\u001b[0m\n\u001b[1;32m    162\u001b[0m musical_processing\u001b[38;5;241m.\u001b[39mgenerate_midi_from_data(output_manager, instruments\u001b[38;5;241m=\u001b[39minstruments, note_map\u001b[38;5;241m=\u001b[39mnote_map, rhythm\u001b[38;5;241m=\u001b[39mrhythm)\n\u001b[1;32m    163\u001b[0m \u001b[38;5;66;03m# convert midi files to a wav file\u001b[39;00m\n\u001b[0;32m--> 164\u001b[0m \u001b[43mmusical_processing\u001b[49m\u001b[38;5;241;43m.\u001b[39;49m\u001b[43mconvert_midi_to_wav_timidity\u001b[49m\u001b[43m(\u001b[49m\u001b[43moutput_manager\u001b[49m\u001b[43m,\u001b[49m\u001b[43m \u001b[49m\u001b[43mlog_to_file\u001b[49m\u001b[38;5;241;43m=\u001b[39;49m\u001b[43mlog_to_file\u001b[49m\u001b[43m)\u001b[49m\n\u001b[1;32m    165\u001b[0m \u001b[38;5;66;03m# generate video from data\u001b[39;00m\n\u001b[1;32m    166\u001b[0m video_generation\u001b[38;5;241m.\u001b[39mgenerate_video_from_data(\n\u001b[1;32m    167\u001b[0m     quantum_circuit,\n\u001b[1;32m    168\u001b[0m     output_manager\u001b[38;5;241m=\u001b[39moutput_manager,\n\u001b[0;32m   (...)\u001b[0m\n\u001b[1;32m    174\u001b[0m     show_measured_probabilities_only\u001b[38;5;241m=\u001b[39mshow_measured_probabilities_only,\n\u001b[1;32m    175\u001b[0m )\n",
      "File \u001b[0;32m~/software/pyvenv/lib/python3.9/site-packages/qmuvi/musical_processing.py:469\u001b[0m, in \u001b[0;36mconvert_midi_to_wav_timidity\u001b[0;34m(output_manager, timeout, log_to_file)\u001b[0m\n\u001b[1;32m    466\u001b[0m         log\u001b[38;5;241m.\u001b[39minfo(thread_results[thread_index]\u001b[38;5;241m.\u001b[39mstdout\u001b[38;5;241m.\u001b[39mdecode())\n\u001b[1;32m    467\u001b[0m         log\u001b[38;5;241m.\u001b[39minfo(thread_results[thread_index]\u001b[38;5;241m.\u001b[39mstderr\u001b[38;5;241m.\u001b[39mdecode())\n\u001b[0;32m--> 469\u001b[0m \u001b[43mconvert_files_mid_to_wav_timidity_threading\u001b[49m\u001b[43m(\u001b[49m\u001b[43mfiles\u001b[49m\u001b[43m,\u001b[49m\u001b[43m \u001b[49m\u001b[43moptions_string\u001b[49m\u001b[43m,\u001b[49m\u001b[43m \u001b[49m\u001b[43mtimidity_convert_subprocess\u001b[49m\u001b[43m,\u001b[49m\u001b[43m \u001b[49m\u001b[43mtimeout\u001b[49m\u001b[38;5;241;43m=\u001b[39;49m\u001b[43mtimeout\u001b[49m\u001b[43m)\u001b[49m\n\u001b[1;32m    471\u001b[0m files \u001b[38;5;241m=\u001b[39m output_manager\u001b[38;5;241m.\u001b[39mglob(output_manager\u001b[38;5;241m.\u001b[39mdefault_name \u001b[38;5;241m+\u001b[39m \u001b[38;5;124m\"\u001b[39m\u001b[38;5;124m-*.wav\u001b[39m\u001b[38;5;124m\"\u001b[39m)\n\u001b[1;32m    472\u001b[0m \u001b[38;5;28;01mif\u001b[39;00m \u001b[38;5;28mlen\u001b[39m(files) \u001b[38;5;241m>\u001b[39m \u001b[38;5;241m1\u001b[39m:\n",
      "File \u001b[0;32m~/software/pyvenv/lib/python3.9/site-packages/qmuvi/musical_processing.py:597\u001b[0m, in \u001b[0;36mconvert_files_mid_to_wav_timidity_threading\u001b[0;34m(pathnames, options_string, timidity_convert_method, timeout)\u001b[0m\n\u001b[1;32m    594\u001b[0m \u001b[38;5;28;01mif\u001b[39;00m thread_errors[thread_index] \u001b[38;5;129;01mis\u001b[39;00m \u001b[38;5;129;01mnot\u001b[39;00m \u001b[38;5;28;01mNone\u001b[39;00m:\n\u001b[1;32m    595\u001b[0m     \u001b[38;5;66;03m# an error occured in the thread, show the error\u001b[39;00m\n\u001b[1;32m    596\u001b[0m     \u001b[38;5;28mprint\u001b[39m(\u001b[38;5;124mf\u001b[39m\u001b[38;5;124m\"\u001b[39m\u001b[38;5;124mErrors in thread \u001b[39m\u001b[38;5;132;01m{\u001b[39;00mthread_index\u001b[38;5;132;01m}\u001b[39;00m\u001b[38;5;124m:\u001b[39m\u001b[38;5;124m\"\u001b[39m)\n\u001b[0;32m--> 597\u001b[0m     \u001b[38;5;28;01mraise\u001b[39;00m thread_errors[thread_index][\u001b[38;5;241m0\u001b[39m]\n\u001b[1;32m    599\u001b[0m \u001b[38;5;28;01mif\u001b[39;00m thread_result\u001b[38;5;241m.\u001b[39mreturncode \u001b[38;5;241m!=\u001b[39m \u001b[38;5;241m0\u001b[39m:\n\u001b[1;32m    600\u001b[0m     \u001b[38;5;66;03m# timidity command failed in subprocess, show subprocess stdout and stderr\u001b[39;00m\n\u001b[1;32m    601\u001b[0m     \u001b[38;5;28mprint\u001b[39m(\u001b[38;5;124mf\u001b[39m\u001b[38;5;124m\"\u001b[39m\u001b[38;5;124mError from Timidity++ converting file \u001b[39m\u001b[38;5;132;01m{\u001b[39;00mfilename\u001b[38;5;132;01m}\u001b[39;00m\u001b[38;5;124m\"\u001b[39m)\n",
      "File \u001b[0;32m~/software/pyvenv/lib/python3.9/site-packages/qmuvi/musical_processing.py:456\u001b[0m, in \u001b[0;36mconvert_midi_to_wav_timidity.<locals>.timidity_convert_subprocess\u001b[0;34m(filename, options_string, thread_results, thread_errors, thread_index)\u001b[0m\n\u001b[1;32m    453\u001b[0m     log\u001b[38;5;241m.\u001b[39minfo(\u001b[38;5;124mf\u001b[39m\u001b[38;5;124m\"\u001b[39m\u001b[38;5;124mtimidity options: \u001b[39m\u001b[38;5;132;01m{\u001b[39;00moptions_string\u001b[38;5;132;01m}\u001b[39;00m\u001b[38;5;124m\"\u001b[39m)\n\u001b[1;32m    454\u001b[0m     log\u001b[38;5;241m.\u001b[39mdebug(\u001b[38;5;124mf\u001b[39m\u001b[38;5;124m\"\u001b[39m\u001b[38;5;124mexecuting subprocess command: \u001b[39m\u001b[38;5;132;01m{\u001b[39;00mcommand\u001b[38;5;132;01m}\u001b[39;00m\u001b[38;5;124m\"\u001b[39m)\n\u001b[0;32m--> 456\u001b[0m thread_results[thread_index] \u001b[38;5;241m=\u001b[39m \u001b[43msubprocess\u001b[49m\u001b[38;5;241;43m.\u001b[39;49m\u001b[43mrun\u001b[49m\u001b[43m(\u001b[49m\u001b[43mcommand\u001b[49m\u001b[43m,\u001b[49m\u001b[43m \u001b[49m\u001b[43mcwd\u001b[49m\u001b[38;5;241;43m=\u001b[39;49m\u001b[43mpackage_path\u001b[49m\u001b[43m,\u001b[49m\u001b[43m \u001b[49m\u001b[43mcapture_output\u001b[49m\u001b[38;5;241;43m=\u001b[39;49m\u001b[38;5;28;43;01mTrue\u001b[39;49;00m\u001b[43m,\u001b[49m\u001b[43m \u001b[49m\u001b[43mcheck\u001b[49m\u001b[38;5;241;43m=\u001b[39;49m\u001b[38;5;28;43;01mTrue\u001b[39;49;00m\u001b[43m,\u001b[49m\u001b[43m \u001b[49m\u001b[43mshell\u001b[49m\u001b[38;5;241;43m=\u001b[39;49m\u001b[43mshell\u001b[49m\u001b[43m)\u001b[49m\n\u001b[1;32m    458\u001b[0m \u001b[38;5;28;01mif\u001b[39;00m log_to_file \u001b[38;5;129;01mis\u001b[39;00m \u001b[38;5;28;01mTrue\u001b[39;00m:\n\u001b[1;32m    459\u001b[0m     log\u001b[38;5;241m.\u001b[39mdebug(\u001b[38;5;124m\"\u001b[39m\u001b[38;5;124mcompleted subprocess\u001b[39m\u001b[38;5;124m\"\u001b[39m)\n",
      "File \u001b[0;32m~/.pyenv/versions/3.9.4/lib/python3.9/subprocess.py:528\u001b[0m, in \u001b[0;36mrun\u001b[0;34m(input, capture_output, timeout, check, *popenargs, **kwargs)\u001b[0m\n\u001b[1;32m    526\u001b[0m     retcode \u001b[38;5;241m=\u001b[39m process\u001b[38;5;241m.\u001b[39mpoll()\n\u001b[1;32m    527\u001b[0m     \u001b[38;5;28;01mif\u001b[39;00m check \u001b[38;5;129;01mand\u001b[39;00m retcode:\n\u001b[0;32m--> 528\u001b[0m         \u001b[38;5;28;01mraise\u001b[39;00m CalledProcessError(retcode, process\u001b[38;5;241m.\u001b[39margs,\n\u001b[1;32m    529\u001b[0m                                  output\u001b[38;5;241m=\u001b[39mstdout, stderr\u001b[38;5;241m=\u001b[39mstderr)\n\u001b[1;32m    530\u001b[0m \u001b[38;5;28;01mreturn\u001b[39;00m CompletedProcess(process\u001b[38;5;241m.\u001b[39margs, retcode, stdout, stderr)\n",
      "\u001b[0;31mCalledProcessError\u001b[0m: Command '['/Users/ela017/software/pyvenv/lib/python3.9/site-packages/qmuvi/package_data/binaries/TiMidity-2.15.0/macos/timidity', '-Ow', '--verbose=3', '--preserve-silence', '-A,120', '--no-anti-alias', '--mod-wheel', '--portamento', '--vibrato', '--no-ch-pressure', '--mod-envelope', '--trace-text-meta', '--overlap-voice', '--default-bank=0', '--default-program=0', '--delay=d,0', '--chorus=n,64', '--reverb=f,40,0.28,0.7,100', '--voice-lpf=c', '--noise-shaping=4', '--resample=5', '--voice-queue=0', '--decay-time=0', '--interpolation=gauss', '-EFresamp=34', '--output-stereo', '--output-24bit', '--polyphony=15887', '--sampling-freq=44100', '--volume-curve=1.661', '--config-file=\"/Users/ela017/software/pyvenv/lib/python3.9/site-packages/qmuvi/package_data/resources/timidity/timidity.cfg\"', '-o', '\"/Users/ela017/myresearch/quantumcomputing/quantum-computing-hackathon/lessons/bell_state-output-7/bell_state-4.wav\"', '\"/Users/ela017/myresearch/quantumcomputing/quantum-computing-hackathon/lessons/bell_state-output-7/bell_state-4.mid\"']' returned non-zero exit status 1."
     ]
    }
   ],
   "source": [
    "import qmuvi\n",
    "from qiskit import QuantumCircuit\n",
    "\n",
    "circ = QuantumCircuit(2)\n",
    "circ.barrier()\n",
    "circ.h(0)\n",
    "circ.barrier()\n",
    "circ.cx(0, 1)\n",
    "circ.barrier()\n",
    "\n",
    "qmuvi.generate_qmuvi(circ, \"bell_state\", log_to_file=True)"
   ]
  },
  {
   "cell_type": "markdown",
   "metadata": {
    "id": "r7k35V66jeCc"
   },
   "source": [
    "## References\n",
    "\n",
    "* Some reference"
   ]
  }
 ],
 "metadata": {
  "colab": {
   "provenance": []
  },
  "kernelspec": {
   "display_name": "Python 3 (ipykernel)",
   "language": "python",
   "name": "python3"
  },
  "language_info": {
   "codemirror_mode": {
    "name": "ipython",
    "version": 3
   },
   "file_extension": ".py",
   "mimetype": "text/x-python",
   "name": "python",
   "nbconvert_exporter": "python",
   "pygments_lexer": "ipython3",
   "version": "3.9.4"
  }
 },
 "nbformat": 4,
 "nbformat_minor": 4
}
