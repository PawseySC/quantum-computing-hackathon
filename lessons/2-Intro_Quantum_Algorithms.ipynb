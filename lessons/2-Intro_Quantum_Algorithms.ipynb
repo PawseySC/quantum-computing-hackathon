{
 "cells": [
  {
   "cell_type": "markdown",
   "metadata": {
    "id": "LTgY4z1jB7YS"
   },
   "source": [
    "# Introduction to Quantum Computing"
   ]
  },
  {
   "cell_type": "markdown",
   "metadata": {
    "id": "DZaQxeod5BhC"
   },
   "source": [
    "## Overview \n",
    "\n",
    "This notebook provides an introduction to a quantum algorithm and why this algorithm is \"better\" than the classical approach.\n",
    "\n",
    "We recommend you have some knowledge of:\n",
    "* basic Python programming: language, importing libraries, using functions.\n",
    "* basic quantum computing concepts: qubits, quantum processes like superposition, interference and entanglement.\n",
    "\n",
    "We recommend you look at Lesson 0 and 1, which cover this in more detail. \n",
    "\n",
    "## Learning Objects \n",
    "\n",
    "After using this notebook you should have an understanding of \n",
    "\n",
    "* Quantum Algorithms and why the quantum mechanical properties of superposition, interference and entanglement can be useful.\n"
   ]
  },
  {
   "cell_type": "code",
   "execution_count": 1,
   "metadata": {},
   "outputs": [],
   "source": [
    "# here lets import and set some python/jupyter preliminaries\n",
    "# you don't need to do much here other than run the cell\n",
    "%matplotlib inline\n",
    "\n",
    "# generic python libraries\n",
    "import sys, os\n",
    "\n",
    "# generic plotting library \n",
    "import matplotlib\n",
    "import matplotlib.pyplot as plt\n",
    "matplotlib.logging.getLogger('matplotlib.font_manager').disabled = True\n",
    "\n",
    "# penny lane quantum computing library\n",
    "import pennylane as qml\n",
    "from pennylane import numpy as np\n",
    "qml.drawer.use_style('sketch')\n",
    "\n",
    "# quatnum music visualisation \n",
    "import qmuvi\n",
    "from qiskit import QuantumCircuit\n",
    "\n",
    "# import interactive widgets\n",
    "from ipywidgets import interact, interactive, fixed, interact_manual\n",
    "import ipywidgets as widgets\n",
    "from IPython.display import display, Markdown, Latex\n",
    "\n",
    "# import some useful wrappers\n",
    "dir_path = os.path.abspath(\"\")\n",
    "sys.path.append(dir_path)\n",
    "from useful_wrappers import *"
   ]
  },
  {
   "cell_type": "markdown",
   "metadata": {
    "id": "9FfDPENAqTle"
   },
   "source": [
    "## Introduction to Quantum Algorithms\n",
    "\n",
    "Developing algorithms for quantum computing is an active area of research. There are many new, more efficient, better scaling algorithms being developed all the time. Let's review some of the history. \n",
    "\n",
    "### The Deutsch-Jozsa algorithm\n",
    "\n",
    "The Deutsch-Jozsa algorithm is like a \"toy\" algorithm. David Deutsch and Richard Jozsa in 1992 aimed to devise a problem for which a quantum computer could outperform classical methods computing methods. Their algorithm tackles the task of determining whether a function, which is hidden from the user or a so-called *black box*, has one of two properties: *constant* or *balanced*. For this specific problem, if the input is a binary string of length $n$, a classical approach needs to evaluate the function $2^{n-1}+1$ times to know for certain if the function is *constant* or balanced. The quantum algorithm achieves this in a single evaluation of the function by leveraging quantum superposition, entanglement and interference, a big speed-up. \n",
    "\n",
    "*For more information, see [wikipedia](https://en.wikipedia.org/wiki/Deutsch–Jozsa_algorithm).* \n",
    "\n",
    "### Grover's search\n",
    "\n",
    "Grover's search algorithm devised by Lov Grover in 1996 is a unstructured search that finds with high probability the unique input to a *black box* function that produces a particular output value. The idea here is there could be many different inputs, say all the possible binary strings that could be constructed using $n$ bits, which happens to be $N=2^{n}$. The black box transforms these inputs into a set of outputs. The goal is to find the input that produces the desired output. \n",
    "\n",
    "The classical approach cannot guarantee identification of the desired input in fewer than $50\\%N$ evaluations (because, on average, one has to check half of all possible inputs to get a 50% chance of finding the right input). The quantum approach, which we will discuss in detail below just needs on the order of $\\sqrt{N}$ evaluations. For large bit strings, this can be quite a big speed up. For instance, if we had 16 possible inputs using a bit-string length of $4$, the speed-up is \n",
    "$$\n",
    "\\frac{0.5\\times16}{\\sqrt{16}}=\\frac{8}{4}=2\n",
    "$$\n",
    "\n",
    "For really large $n$ (and $N$), say $n=100$, $N=2^{100}$, you would get a speed-up of \n",
    "$$\n",
    "\\frac{0.5\\times2^{100}}{\\sqrt{2^{100}}}\\approx 562,900,000,000,000\n",
    "$$\n",
    "\n",
    "*For more information, see [wikipedia](https://en.wikipedia.org/wiki/Grover's_algorithm).* \n"
   ]
  },
  {
   "cell_type": "markdown",
   "metadata": {
    "id": "PWNPzXkZ3pWy"
   },
   "source": [
    "## Running Grover's search \n",
    "\n",
    "Let's try exploring Grover's algorithm in more detail. Before though, it is useful to revisit superposition, entanglement and discuss a new concept *phase*. "
   ]
  },
  {
   "cell_type": "markdown",
   "metadata": {
    "id": "r7k35V66jeCc"
   },
   "source": [
    "## **References**"
   ]
  }
 ],
 "metadata": {
  "colab": {
   "provenance": []
  },
  "kernelspec": {
   "display_name": "Python 3 (ipykernel)",
   "language": "python",
   "name": "python3"
  },
  "language_info": {
   "codemirror_mode": {
    "name": "ipython",
    "version": 3
   },
   "file_extension": ".py",
   "mimetype": "text/x-python",
   "name": "python",
   "nbconvert_exporter": "python",
   "pygments_lexer": "ipython3",
   "version": "3.9.4"
  }
 },
 "nbformat": 4,
 "nbformat_minor": 4
}
