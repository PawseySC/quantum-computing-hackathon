{
 "cells": [
  {
   "cell_type": "markdown",
   "metadata": {
    "id": "LTgY4z1jB7YS"
   },
   "source": [
    "# Introduction to Quantum Computing"
   ]
  },
  {
   "cell_type": "markdown",
   "metadata": {
    "id": "DZaQxeod5BhC"
   },
   "source": [
    "## Overview \n",
    "\n",
    "This notebook provides an introduction to some basic quantum computing concepts and how to program a quantum computer using quantum circuits.\n",
    "\n",
    "We recommend you have some knowledge of:\n",
    "* Python programming: language, importing libraries, using functions.\n",
    "* basic quantum computing concepts: qubits, quantum processes like superposition, interference and entanglement.\n",
    "\n",
    "### Learning Objects \n",
    "\n",
    "After using this notebook you should have an understanding of \n",
    "\n",
    "* What are *qubits* and why they are different from classical binary bits.\n",
    "* What is *superposition* and how it could be used to solve a problem.\n",
    "* What is *interference & entanglement* and how it could be used to solve a problem.\n",
    "* What are *quantum circuits* and how they relate to solving a problem. \n"
   ]
  },
  {
   "cell_type": "markdown",
   "metadata": {
    "id": "9FfDPENAqTle"
   },
   "source": [
    "## Python Refresher \n",
    "\n",
    "Python is an interpreted, high-level, and general-purpose programming language created by Guido van Rossum and first released in 1991. It emphasizes readability and simplicity, making it ideal for both beginners and experienced developers. Python supports multiple programming paradigms, including procedural, object-oriented, and functional programming. It's widely used for web development, data analysis, artificial intelligence, scientific computing, and more due to its extensive standard library and community support. \n",
    "\n",
    "\n",
    "### Examples\n",
    "\n",
    "We do not provide an introduction to the Python programming lanuage but quickly refresh some relevant examples below.\n",
    "\n",
    "1. Print Hello\n",
    "   ```python\n",
    "   print(\"Hello, World!\")\n",
    "   ```\n",
    "3. Declaring some variables and doing some mathematical operations\n",
    "   ```python\n",
    "   a = 5\n",
    "   b = 3\n",
    "   sum = a + b\n",
    "   print(\"Sum:\", sum)\n",
    "   ```\n",
    "4. Define a function\n",
    "   ```python\n",
    "   def greet(name):\n",
    "     return f\"Hello, {name}!\"\n",
    "   print(greet(\"Alice\"))\n",
    "   ```\n",
    "5. Import a library\n",
    "   ```python\n",
    "   # import the numerical library of python\n",
    "   import numpy as np \n",
    "   # create an array of ones of size 5, ie: [1,1,1,1,1]\n",
    "   x = np.ones(5)\n",
    "   print(x)\n",
    "   ```\n"
   ]
  },
  {
   "cell_type": "code",
   "execution_count": 3,
   "metadata": {},
   "outputs": [],
   "source": [
    "# here lets import and set some python/jupyter preliminaries\n",
    "%matplotlib inline\n",
    "\n",
    "# generic plotting library \n",
    "import matplotlib\n",
    "import matplotlib.pyplot as plt\n",
    "matplotlib.logging.getLogger('matplotlib.font_manager').disabled = True\n",
    "\n",
    "# penny lane quantum computing library\n",
    "import pennylane as qml\n",
    "from pennylane import numpy as np\n",
    "qml.drawer.use_style('sketch')\n",
    "\n",
    "# quatnum music visualisation \n",
    "import qmuvi\n",
    "from qiskit import QuantumCircuit"
   ]
  },
  {
   "cell_type": "code",
   "execution_count": 4,
   "metadata": {},
   "outputs": [],
   "source": [
    "# some helper function definitions\n",
    "\n",
    "def PlotPennyLaneHisto(results, plottitle : str = ''):\n",
    "    with plt.xkcd():\n",
    "    # Based on \"Stove Ownership\" from XKCD by Randall Munroe\n",
    "    # https://xkcd.com/418/\n",
    "\n",
    "        fig = plt.figure()\n",
    "        ax = fig.add_axes((0.1, 0.2, 0.8, 0.7))\n",
    "        ax.spines[['top', 'right']].set_visible(False)\n",
    "        labels = [rf'$|{k}>$' for k in results.keys()]\n",
    "        xvals = np.arange(len(results.keys()))\n",
    "        yvals = [results[k] for k in results.keys()]\n",
    "        ax.bar(labels, yvals, facecolor='DarkOrange', edgecolor='Gold', linewidth=4)\n",
    "        ax.set_xlabel('Qubit States')\n",
    "        ax.set_ylabel('Count')\n",
    "        ax.set_title(plottitle)\n",
    "        fig.show()\n"
   ]
  },
  {
   "cell_type": "markdown",
   "metadata": {
    "id": "2zoa7nVZshfF"
   },
   "source": [
    "## Qubits\n",
    "\n",
    "#### PJE add figure of bit vs qubit\n",
    "\n",
    "Before discussing a quantum bit, so-called *qubit*, it is important to understand how *classical* computers like the one running this notebook operate and what a classical binary bit is. \n",
    "\n",
    "### Classical Bit \n",
    "A bit is a digital representation of either 0 *or* 1. This simple bit can be used to represent a number of numbers (see [https://en.wikipedia.org/wiki/Binary_number]). The binary representation of numbers such as 12 can be done by combining several bits together. In the case of 4 bits, you can view the combination as a sum where each bit represents a power of 2: the first bit being indicating an on/off of $2^0=1$; second bit $2^1=2$; third $2^2=4$; fourth $2^3=8$. \n",
    "\n",
    "#### Examples \n",
    "* 0000: This represents the decimal number 0 as you have $0\\times2^{0}+0\\times2^{1}+0\\times2^{2}+0\\times2^{3}$.\n",
    "* 0001: This represents the decimal number 1.\n",
    "* 0010: This represents the decimal number 2.\n",
    "* 0100: This represents the decimal number 4.\n",
    "* 1010: This represents the decimal number 10 as you have $0\\times2^{0}+1\\times2^{1}+0\\times2^{2}+1\\times2^{3} = 2+8 = 10$.\n",
    "\n",
    "*What is 12?*\n",
    "\n",
    "### Quantum Bit\n",
    "A qubit is a fundamental unit of quantum information, analogous to the classical bit. However, here the quantum state holding the information can exist in a *superposition* of states, meaning they can be 0, 1, or ***both 0 and 1 simultaneously***! \n",
    "\n",
    "\n",
    "This means that a qubit can store more information than a classical bit, exponentially more information. For instance to store the information in 4-qubit structure, storing all the various possible values, you need $2^{4}=32$ bits. That may not seem like much but when you get large number of qubits, say 100 qubits, you would need $2^100=1,267,650,600,228,229,401,496,703,205,376$ bits, which is roughly a thousand, billion, billon Gigabytes of memory!\n",
    "\n",
    "Often you'll see that qubits are written a little differently (using the so-called *braket* or *Dirac* notation). The 0-state is often written as $\\ket{0}$ and 1 as $\\ket{1}$. A 4-bit qubit, with qubits $q_0, q_1, q_2, q_3$ is $\\ket{q_1q_2q_3q_4}$. \n",
    "\n",
    "\n",
    "*For more information, see [wikipedia](https://en.wikipedia.org/wiki/Qubit).*"
   ]
  },
  {
   "cell_type": "markdown",
   "metadata": {},
   "source": [
    "## Quantum Superposition & Measurement\n",
    "\n",
    "#### PJE add figure of superposition\n",
    "\n",
    "Superposition is one of the core principles of quantum mechanics and, by extension, quantum computing, which states that a qubit can be in both 0 and 1 states at the same time$^\\dagger$. For a *qubit* $\\ket{\\Psi}$ in general superposition, one can think of it as \n",
    "$$\n",
    "\\ket{\\Psi} = c_0\\ket{0}+c_1\\ket{1}\n",
    "$$\n",
    "\n",
    "This mixed state is **NOT** directly measured. Instead measurement of a qubit will return a $\\ket{0}$ **or** $\\ket{1}$, *not both*. \n",
    "\n",
    "*How do you know the qubit was in a mixed state before the measurement occurs?* **By repeating the experiment and measurment.** You will see that the qubit will be 0 or 1 with the probability being $c_0\\times c_0$ or $c_1\\times c_1$ respectively.\n",
    "\n",
    "> $\\dagger$ Specifically linear combinations of solutions to the *Schrödinger equation* governing the evolution of quantum systems are also solutions of the Schrödinger equation. The state of a system is given by a linear combination of all the eigenfunctions of the Schrödinger equation governing that system.\n",
    "\n",
    "A commonly used superposition state is one of *equal* superposition where $c_0 = c_1 = c = \\tfrac{1}{\\sqrt{2}}$. That is the probabilty of getting a 0 is the same as 1 and you can get either 0 and 1 $50\\%$ of the time (like a coin flip). \n",
    "$$\n",
    "\\ket{\\Psi} = c\\bigl(\\ket{0} + \\ket{1}\\bigr)\n",
    "$$\n",
    "\n",
    "Now it is important to realise that this mixed state is NOT directly measured (that is you don't see the coin land on its edge). Instead, if you didn't know the state of the system, you would have to *measure* or observe it over and over again and see that you would get $\\ket{0}$ sometimes and $\\ket{1}$ other times. Think of a spinning coin that when you catch it, it has a specific state. \n",
    "\n",
    "*For more information, see [wikipedia](https://en.wikipedia.org/wiki/Quantum_superposition).*"
   ]
  },
  {
   "cell_type": "markdown",
   "metadata": {
    "id": "hF3tcJCE3YyE"
   },
   "source": [
    "## Quantum Interference & Entanglement \n",
    "\n",
    "#### PJE add figure of entanglement\n",
    "\n",
    "Quantum entanglement is the a unique feature of quantum mechanics (the physics that governs the small-scale universe) that not present in classical mechanics that well describes our day-to-day world (cars, planes, footballs). The phenomenon is when quantum states are interacting in such a way that the quantum state of each particle of the group cannot be described independently of the state of the others, even when particles are separated by a large distance. It is often referred to as a \"spooky-action-at-a-distance\" but there is nothing ghostly about it. \n",
    "\n",
    "### The Qubit perspective \n",
    "\n",
    "Let's think about *qubits*. Let's say we have two qubits $\\ket{\\Psi_1}$ \\& $\\ket{\\Psi_2}$ and a total system state of $\\ket{\\Psi} = \\ket{\\Psi_1\\Psi_2}$. Now if qubit 1 was in the $\\ket{0}$ state and qubit 2 was in $\\ket{1}$, then the total system state is written as \n",
    "$$\n",
    "\\ket{\\Psi} = \\ket{\\Psi_1\\Psi_2} = \\ket{01}\n",
    "$$\n",
    "Similar if we had instead both in the $\\ket{0}$ state we often write this as $\\ket{00}$ or if we had both in the $\\ket{1}$ state, then we write the state as $\\ket{11}$. \n",
    "\n",
    "Now consider these qubits if they are both in *equal* superposition. The total state of the system, $\\ket{\\Psi}$ is \n",
    "$$\n",
    "\\ket{\\Psi} = \\ket{\\Psi_1\\Psi_2} = c\\times c \\bigl(\\ket{00}+ \\ket{01}+\\ket{10}+\\ket{11}\\bigr)\n",
    "$$\n",
    "\n",
    "Here we would measure each of the total possible set of states equally. Consider this as if you were flipping two independent coins. But what happens if we ***entangle*** these states such that if qubit 2 is linked to the state of qubit 1. You get a $\\ket{0}$ for qubit 1, you get a $\\ket{0}$ for qubit 2 (that is the coins are linked). In this case we cannot get the states $\\ket{01}$ and $\\ket{10}$ because the states are entangled. \n",
    "\n",
    "Now consider these qubits if they are both in *equal* superposition. The total state of the system, $\\ket{\\Psi}$ is \n",
    "$$\n",
    "\\ket{\\Psi} = \\ket{\\Psi_1\\Psi_2} = c\\bigl(\\ket{00}+\\ket{11}\\bigr)\n",
    "$$\n",
    "\n",
    "\n",
    "*For more information, see [wikipedia](https://en.wikipedia.org/wiki/Quantum_entanglement).*"
   ]
  },
  {
   "cell_type": "markdown",
   "metadata": {},
   "source": [
    "## Quantum Circuits\n",
    "\n",
    "In standard computing you write a computer program that can executed by a classical computer. These programs can consist of many different steps and you can often jump around in the steps (for instance do and undo) and these can be done interactively.\n",
    "\n",
    "Quantum programs (or algorithms) are a bit different as it can be tricky to dynamically interact with the quantum system without ruining the qubits. It is also challenging to visualise what is happening in a quantum program and we often visualise what is happening using a  *quantum circuit*. An example of a quantum circuit is shown below. \n",
    "\n",
    "![3 Qubit Circuit](simple_circuit_annotated_small.png \"3 Qubit circuit\")\n",
    "\n",
    "This shows the evolution of qubits as a single line going from left to right. If you ever see a doubled lines that represent a classical bit. Quantum gates are shows as symbols on the line and the entire program is this sequence of operations on qubits.  These lines define the sequence of events, and are usually not physical cables. \n",
    "\n",
    "This is a nice way fo visualising a quantum program as it can show what happens to a given qubit and also which qubits are interacting (as shown by vertical lines with symbols ending on the qubit lines). \n",
    "\n",
    "Below is a way of making a nice visualisation of a quantum circuit where the point at which you are on the circuit is highlighted. \n",
    "\n",
    "*Don't worry about the details yet, let's just enjoy*"
   ]
  },
  {
   "cell_type": "code",
   "execution_count": 11,
   "metadata": {},
   "outputs": [
    {
     "name": "stdout",
     "output_type": "stream",
     "text": [
      "Generating qMuVi data...\n",
      "Generating MIDI track files...\n",
      "Converting to .wav files using TiMidity++\n",
      "Errors in thread 0:\n"
     ]
    },
    {
     "ename": "CalledProcessError",
     "evalue": "Command '['/Users/ela017/software/pyvenv/lib/python3.9/site-packages/qmuvi/package_data/binaries/TiMidity-2.15.0/macos/timidity', '-Ow', '--preserve-silence', '-A,120', '--no-anti-alias', '--mod-wheel', '--portamento', '--vibrato', '--no-ch-pressure', '--mod-envelope', '--trace-text-meta', '--overlap-voice', '--default-bank=0', '--default-program=0', '--delay=d,0', '--chorus=n,64', '--reverb=f,40,0.28,0.7,100', '--voice-lpf=c', '--noise-shaping=4', '--resample=5', '--voice-queue=0', '--decay-time=0', '--interpolation=gauss', '-EFresamp=34', '--output-stereo', '--output-24bit', '--polyphony=15887', '--sampling-freq=44100', '--volume-curve=1.661', '--config-file=\"/Users/ela017/software/pyvenv/lib/python3.9/site-packages/qmuvi/package_data/resources/timidity/timidity.cfg\"', '-o', '\"/Users/ela017/myresearch/quantumcomputing/quantum-computing-hackathon/lessons/bell_state-output/bell_state-4.wav\"', '\"/Users/ela017/myresearch/quantumcomputing/quantum-computing-hackathon/lessons/bell_state-output/bell_state-4.mid\"']' died with <Signals.SIGABRT: 6>.",
     "output_type": "error",
     "traceback": [
      "\u001b[0;31m---------------------------------------------------------------------------\u001b[0m",
      "\u001b[0;31mCalledProcessError\u001b[0m                        Traceback (most recent call last)",
      "Cell \u001b[0;32mIn[11], line 11\u001b[0m\n\u001b[1;32m      8\u001b[0m circ\u001b[38;5;241m.\u001b[39mcx(\u001b[38;5;241m0\u001b[39m, \u001b[38;5;241m1\u001b[39m)\n\u001b[1;32m      9\u001b[0m circ\u001b[38;5;241m.\u001b[39mbarrier()\n\u001b[0;32m---> 11\u001b[0m \u001b[43mqmuvi\u001b[49m\u001b[38;5;241;43m.\u001b[39;49m\u001b[43mgenerate_qmuvi\u001b[49m\u001b[43m(\u001b[49m\u001b[43mcirc\u001b[49m\u001b[43m,\u001b[49m\u001b[43m \u001b[49m\u001b[38;5;124;43m\"\u001b[39;49m\u001b[38;5;124;43mbell_state\u001b[39;49m\u001b[38;5;124;43m\"\u001b[39;49m\u001b[43m)\u001b[49m\n",
      "File \u001b[0;32m~/software/pyvenv/lib/python3.9/site-packages/qmuvi/__init__.py:164\u001b[0m, in \u001b[0;36mgenerate_qmuvi\u001b[0;34m(quantum_circuit, qmuvi_name, noise_model, rhythm, instruments, note_map, invert_colours, fps, vpr, smooth_transitions, log_to_file, show_measured_probabilities_only, output_dir)\u001b[0m\n\u001b[1;32m    162\u001b[0m musical_processing\u001b[38;5;241m.\u001b[39mgenerate_midi_from_data(output_manager, instruments\u001b[38;5;241m=\u001b[39minstruments, note_map\u001b[38;5;241m=\u001b[39mnote_map, rhythm\u001b[38;5;241m=\u001b[39mrhythm)\n\u001b[1;32m    163\u001b[0m \u001b[38;5;66;03m# convert midi files to a wav file\u001b[39;00m\n\u001b[0;32m--> 164\u001b[0m \u001b[43mmusical_processing\u001b[49m\u001b[38;5;241;43m.\u001b[39;49m\u001b[43mconvert_midi_to_wav_timidity\u001b[49m\u001b[43m(\u001b[49m\u001b[43moutput_manager\u001b[49m\u001b[43m,\u001b[49m\u001b[43m \u001b[49m\u001b[43mlog_to_file\u001b[49m\u001b[38;5;241;43m=\u001b[39;49m\u001b[43mlog_to_file\u001b[49m\u001b[43m)\u001b[49m\n\u001b[1;32m    165\u001b[0m \u001b[38;5;66;03m# generate video from data\u001b[39;00m\n\u001b[1;32m    166\u001b[0m video_generation\u001b[38;5;241m.\u001b[39mgenerate_video_from_data(\n\u001b[1;32m    167\u001b[0m     quantum_circuit,\n\u001b[1;32m    168\u001b[0m     output_manager\u001b[38;5;241m=\u001b[39moutput_manager,\n\u001b[0;32m   (...)\u001b[0m\n\u001b[1;32m    174\u001b[0m     show_measured_probabilities_only\u001b[38;5;241m=\u001b[39mshow_measured_probabilities_only,\n\u001b[1;32m    175\u001b[0m )\n",
      "File \u001b[0;32m~/software/pyvenv/lib/python3.9/site-packages/qmuvi/musical_processing.py:469\u001b[0m, in \u001b[0;36mconvert_midi_to_wav_timidity\u001b[0;34m(output_manager, timeout, log_to_file)\u001b[0m\n\u001b[1;32m    466\u001b[0m         log\u001b[38;5;241m.\u001b[39minfo(thread_results[thread_index]\u001b[38;5;241m.\u001b[39mstdout\u001b[38;5;241m.\u001b[39mdecode())\n\u001b[1;32m    467\u001b[0m         log\u001b[38;5;241m.\u001b[39minfo(thread_results[thread_index]\u001b[38;5;241m.\u001b[39mstderr\u001b[38;5;241m.\u001b[39mdecode())\n\u001b[0;32m--> 469\u001b[0m \u001b[43mconvert_files_mid_to_wav_timidity_threading\u001b[49m\u001b[43m(\u001b[49m\u001b[43mfiles\u001b[49m\u001b[43m,\u001b[49m\u001b[43m \u001b[49m\u001b[43moptions_string\u001b[49m\u001b[43m,\u001b[49m\u001b[43m \u001b[49m\u001b[43mtimidity_convert_subprocess\u001b[49m\u001b[43m,\u001b[49m\u001b[43m \u001b[49m\u001b[43mtimeout\u001b[49m\u001b[38;5;241;43m=\u001b[39;49m\u001b[43mtimeout\u001b[49m\u001b[43m)\u001b[49m\n\u001b[1;32m    471\u001b[0m files \u001b[38;5;241m=\u001b[39m output_manager\u001b[38;5;241m.\u001b[39mglob(output_manager\u001b[38;5;241m.\u001b[39mdefault_name \u001b[38;5;241m+\u001b[39m \u001b[38;5;124m\"\u001b[39m\u001b[38;5;124m-*.wav\u001b[39m\u001b[38;5;124m\"\u001b[39m)\n\u001b[1;32m    472\u001b[0m \u001b[38;5;28;01mif\u001b[39;00m \u001b[38;5;28mlen\u001b[39m(files) \u001b[38;5;241m>\u001b[39m \u001b[38;5;241m1\u001b[39m:\n",
      "File \u001b[0;32m~/software/pyvenv/lib/python3.9/site-packages/qmuvi/musical_processing.py:597\u001b[0m, in \u001b[0;36mconvert_files_mid_to_wav_timidity_threading\u001b[0;34m(pathnames, options_string, timidity_convert_method, timeout)\u001b[0m\n\u001b[1;32m    594\u001b[0m \u001b[38;5;28;01mif\u001b[39;00m thread_errors[thread_index] \u001b[38;5;129;01mis\u001b[39;00m \u001b[38;5;129;01mnot\u001b[39;00m \u001b[38;5;28;01mNone\u001b[39;00m:\n\u001b[1;32m    595\u001b[0m     \u001b[38;5;66;03m# an error occured in the thread, show the error\u001b[39;00m\n\u001b[1;32m    596\u001b[0m     \u001b[38;5;28mprint\u001b[39m(\u001b[38;5;124mf\u001b[39m\u001b[38;5;124m\"\u001b[39m\u001b[38;5;124mErrors in thread \u001b[39m\u001b[38;5;132;01m{\u001b[39;00mthread_index\u001b[38;5;132;01m}\u001b[39;00m\u001b[38;5;124m:\u001b[39m\u001b[38;5;124m\"\u001b[39m)\n\u001b[0;32m--> 597\u001b[0m     \u001b[38;5;28;01mraise\u001b[39;00m thread_errors[thread_index][\u001b[38;5;241m0\u001b[39m]\n\u001b[1;32m    599\u001b[0m \u001b[38;5;28;01mif\u001b[39;00m thread_result\u001b[38;5;241m.\u001b[39mreturncode \u001b[38;5;241m!=\u001b[39m \u001b[38;5;241m0\u001b[39m:\n\u001b[1;32m    600\u001b[0m     \u001b[38;5;66;03m# timidity command failed in subprocess, show subprocess stdout and stderr\u001b[39;00m\n\u001b[1;32m    601\u001b[0m     \u001b[38;5;28mprint\u001b[39m(\u001b[38;5;124mf\u001b[39m\u001b[38;5;124m\"\u001b[39m\u001b[38;5;124mError from Timidity++ converting file \u001b[39m\u001b[38;5;132;01m{\u001b[39;00mfilename\u001b[38;5;132;01m}\u001b[39;00m\u001b[38;5;124m\"\u001b[39m)\n",
      "File \u001b[0;32m~/software/pyvenv/lib/python3.9/site-packages/qmuvi/musical_processing.py:456\u001b[0m, in \u001b[0;36mconvert_midi_to_wav_timidity.<locals>.timidity_convert_subprocess\u001b[0;34m(filename, options_string, thread_results, thread_errors, thread_index)\u001b[0m\n\u001b[1;32m    453\u001b[0m     log\u001b[38;5;241m.\u001b[39minfo(\u001b[38;5;124mf\u001b[39m\u001b[38;5;124m\"\u001b[39m\u001b[38;5;124mtimidity options: \u001b[39m\u001b[38;5;132;01m{\u001b[39;00moptions_string\u001b[38;5;132;01m}\u001b[39;00m\u001b[38;5;124m\"\u001b[39m)\n\u001b[1;32m    454\u001b[0m     log\u001b[38;5;241m.\u001b[39mdebug(\u001b[38;5;124mf\u001b[39m\u001b[38;5;124m\"\u001b[39m\u001b[38;5;124mexecuting subprocess command: \u001b[39m\u001b[38;5;132;01m{\u001b[39;00mcommand\u001b[38;5;132;01m}\u001b[39;00m\u001b[38;5;124m\"\u001b[39m)\n\u001b[0;32m--> 456\u001b[0m thread_results[thread_index] \u001b[38;5;241m=\u001b[39m \u001b[43msubprocess\u001b[49m\u001b[38;5;241;43m.\u001b[39;49m\u001b[43mrun\u001b[49m\u001b[43m(\u001b[49m\u001b[43mcommand\u001b[49m\u001b[43m,\u001b[49m\u001b[43m \u001b[49m\u001b[43mcwd\u001b[49m\u001b[38;5;241;43m=\u001b[39;49m\u001b[43mpackage_path\u001b[49m\u001b[43m,\u001b[49m\u001b[43m \u001b[49m\u001b[43mcapture_output\u001b[49m\u001b[38;5;241;43m=\u001b[39;49m\u001b[38;5;28;43;01mTrue\u001b[39;49;00m\u001b[43m,\u001b[49m\u001b[43m \u001b[49m\u001b[43mcheck\u001b[49m\u001b[38;5;241;43m=\u001b[39;49m\u001b[38;5;28;43;01mTrue\u001b[39;49;00m\u001b[43m,\u001b[49m\u001b[43m \u001b[49m\u001b[43mshell\u001b[49m\u001b[38;5;241;43m=\u001b[39;49m\u001b[43mshell\u001b[49m\u001b[43m)\u001b[49m\n\u001b[1;32m    458\u001b[0m \u001b[38;5;28;01mif\u001b[39;00m log_to_file \u001b[38;5;129;01mis\u001b[39;00m \u001b[38;5;28;01mTrue\u001b[39;00m:\n\u001b[1;32m    459\u001b[0m     log\u001b[38;5;241m.\u001b[39mdebug(\u001b[38;5;124m\"\u001b[39m\u001b[38;5;124mcompleted subprocess\u001b[39m\u001b[38;5;124m\"\u001b[39m)\n",
      "File \u001b[0;32m~/.pyenv/versions/3.9.4/lib/python3.9/subprocess.py:528\u001b[0m, in \u001b[0;36mrun\u001b[0;34m(input, capture_output, timeout, check, *popenargs, **kwargs)\u001b[0m\n\u001b[1;32m    526\u001b[0m     retcode \u001b[38;5;241m=\u001b[39m process\u001b[38;5;241m.\u001b[39mpoll()\n\u001b[1;32m    527\u001b[0m     \u001b[38;5;28;01mif\u001b[39;00m check \u001b[38;5;129;01mand\u001b[39;00m retcode:\n\u001b[0;32m--> 528\u001b[0m         \u001b[38;5;28;01mraise\u001b[39;00m CalledProcessError(retcode, process\u001b[38;5;241m.\u001b[39margs,\n\u001b[1;32m    529\u001b[0m                                  output\u001b[38;5;241m=\u001b[39mstdout, stderr\u001b[38;5;241m=\u001b[39mstderr)\n\u001b[1;32m    530\u001b[0m \u001b[38;5;28;01mreturn\u001b[39;00m CompletedProcess(process\u001b[38;5;241m.\u001b[39margs, retcode, stdout, stderr)\n",
      "\u001b[0;31mCalledProcessError\u001b[0m: Command '['/Users/ela017/software/pyvenv/lib/python3.9/site-packages/qmuvi/package_data/binaries/TiMidity-2.15.0/macos/timidity', '-Ow', '--preserve-silence', '-A,120', '--no-anti-alias', '--mod-wheel', '--portamento', '--vibrato', '--no-ch-pressure', '--mod-envelope', '--trace-text-meta', '--overlap-voice', '--default-bank=0', '--default-program=0', '--delay=d,0', '--chorus=n,64', '--reverb=f,40,0.28,0.7,100', '--voice-lpf=c', '--noise-shaping=4', '--resample=5', '--voice-queue=0', '--decay-time=0', '--interpolation=gauss', '-EFresamp=34', '--output-stereo', '--output-24bit', '--polyphony=15887', '--sampling-freq=44100', '--volume-curve=1.661', '--config-file=\"/Users/ela017/software/pyvenv/lib/python3.9/site-packages/qmuvi/package_data/resources/timidity/timidity.cfg\"', '-o', '\"/Users/ela017/myresearch/quantumcomputing/quantum-computing-hackathon/lessons/bell_state-output/bell_state-4.wav\"', '\"/Users/ela017/myresearch/quantumcomputing/quantum-computing-hackathon/lessons/bell_state-output/bell_state-4.mid\"']' died with <Signals.SIGABRT: 6>."
     ]
    }
   ],
   "source": [
    "import qmuvi\n",
    "from qiskit import QuantumCircuit\n",
    "\n",
    "circ = QuantumCircuit(2)\n",
    "circ.barrier()\n",
    "circ.h(0)\n",
    "circ.barrier()\n",
    "circ.cx(0, 1)\n",
    "circ.barrier()\n",
    "\n",
    "qmuvi.generate_qmuvi(circ, \"bell_state\")"
   ]
  },
  {
   "cell_type": "markdown",
   "metadata": {},
   "source": [
    "## Simulating Quantum Computers and running Quantum Circuits\n",
    "\n",
    "There are a variety of tools out there which can simulate a quantum computer (albeit slowly and only for small qubit counts). In this notebook, we'll make use of a few of them, namely [**PennyLane**](https://pennylane.ai/) and [**Qiskit**](https://www.ibm.com/quantum/qiskit). We'll also use some nice tools like [**qmuvi**](https://github.com/garymooney/qmuvi) a visualisation tool and [**matplotlib**](https://matplotlib.org/)\n",
    "\n",
    "### PennyLane\n",
    "PennyLane is a cross-platform Python library for quantum computing, quantum machine learning, and quantum chemistry. We won't make use of all the functionality but the basics is that you can make use of a quantum computer simulator by invoking a device. \n",
    "\n",
    "```python\n",
    "import pennylane as qml\n",
    "# here `wires\n",
    "qml.device('default.qubit', wires=number_of_qubits)\n",
    "```\n",
    "\n",
    "You'll note some funny terminology such as `pennylane` often invoked as `qml` and `wires` being the number of qubits. Then to construct a circuit you need to define a function that places gates (operations) on the qubits in the circuit.\n",
    "\n",
    "```python\n",
    "# let's define a 2-qubit circuit that has some gates (to be discussed later)\n",
    "def circuit():\n",
    "    qml.NOT(wires=0)\n",
    "    qml.Hadamard(wires=1)\n",
    "    qml.CNOT([1,0])\n",
    "    return qml.counts(all_outcomes=True)\n",
    "\n",
    "```\n",
    "\n",
    "We'll make use of these basic idea's later. \n",
    "\n",
    "### Qiskit\n",
    "Qiskit is another library for quantum computing. Like PennyLane it has lots of nice functionality for simulating and working with quantum circuits.\n",
    "\n",
    "```python\n",
    "from qiskit import QuantumCircuit\n",
    "from qiskit.quantum_info import SparsePauliOp\n",
    "from qiskit.transpiler.preset_passmanagers import generate_preset_pass_manager\n",
    "from qiskit_ibm_runtime import EstimatorV2 as Estimator\n",
    " \n",
    "# Create a new circuit with two qubits\n",
    "qc = QuantumCircuit(2)\n",
    "# Add a NOT gate on qubit 1\n",
    "qc.x(0)\n",
    "# Add a Hadamard gate to qubit 1\n",
    "qc.h(1)\n",
    "# Perform a controlled-X gate on qubit 1, controlled by qubit 0\n",
    "qc.cx(0, 1)\n",
    "```"
   ]
  },
  {
   "cell_type": "markdown",
   "metadata": {},
   "source": [
    "## Superposition or Hadamard Gate\n",
    "\n",
    "One of the simplest instructions or operations you can apply to a qubit is the *Hadamard* gate, $H$, which essentially implements superposition, turning a state of $\\ket{0}$ or $\\ket{1}$ into an equal superposition of $\\ket{0}$ and $\\ket{1}$. More precisely \n",
    "$$H\\ket{0} = \\frac{\\ket{0}+\\ket{1}}{\\sqrt{2}}, \\quad H\\ket{1} = \\frac{\\ket{0}-\\ket{1}}{\\sqrt{2}}$$\n",
    "\n",
    "In both cases, one changes the qubit from just return it's initial state when being measured to giving either 0 or 1 with $50\\%$ probability. \n",
    "\n",
    "Let's consider a quantum circuit consisting of a single qubit starting in $\\ket{0}$ and applying a Hadarmard gate. "
   ]
  },
  {
   "cell_type": "code",
   "execution_count": 8,
   "metadata": {},
   "outputs": [
    {
     "data": {
      "image/png": "[encoded data removed]",
      "text/plain": [
       "<Figure size 400x200 with 1 Axes>"
      ]
     },
     "metadata": {},
     "output_type": "display_data"
    }
   ],
   "source": [
    "# sample code to draw a hadarmad gate using PennyLane\n",
    "# here \n",
    "dev = qml.device(\"default.qubit\", wires=[\"|q1>\"])\n",
    "\n",
    "# now simple circiut where we return the state of the qubits\n",
    "@qml.qnode(dev)\n",
    "def circuit():\n",
    "    qml.Hadamard(wires=\"|q1>\")\n",
    "    return qml.counts(all_outcomes=True)\n",
    "\n",
    "# plot the circuit\n",
    "fig, ax = qml.draw_mpl(circuit)()"
   ]
  },
  {
   "cell_type": "markdown",
   "metadata": {},
   "source": [
    "What could we expect if we measured the output of this circuit 10 times? 100 times? What happens if you do 1000 times?"
   ]
  },
  {
   "cell_type": "code",
   "execution_count": 9,
   "metadata": {},
   "outputs": [
    {
     "data": {
      "image/png": "[encoded data removed]",
      "text/plain": [
       "<Figure size 640x480 with 1 Axes>"
      ]
     },
     "metadata": {},
     "output_type": "display_data"
    },
    {
     "data": {
      "image/png": "[encoded data removed]",
      "text/plain": [
       "<Figure size 640x480 with 1 Axes>"
      ]
     },
     "metadata": {},
     "output_type": "display_data"
    }
   ],
   "source": [
    "# lets create a quantum device that will take 10 shots\n",
    "results = circuit(shots=10)\n",
    "# here plot the results\n",
    "PlotPennyLaneHisto(results, '10 shots')\n",
    "\n",
    "# now you try running more shots by running the circuit again. \n",
    "results = circuit(shots=100)\n",
    "# here plot the results\n",
    "PlotPennyLaneHisto(results, '100 shots')\n",
    "\n",
    "# what would you expect if you could infinitly sample the simple circuit?\n"
   ]
  },
  {
   "cell_type": "markdown",
   "metadata": {},
   "source": [
    "To gain more understainding, let's look at using the **qmuvi** visualisation tool to see what is happening with the Hadamard gate. In a classical system, you can only have 0 or 1 but in the quantum system, while the state is not measured, it is a real mixture of 0 and 1. Let's consider a musical analogue. If we considered 0 to be a note and 1 being another then we should expect the music to start with a single note before the Hadamard gate is placed, then it should become two notes and when measured go back to one of the notes. \n",
    "\n",
    "Here we'll have to use Qiskit to create the circuit "
   ]
  },
  {
   "cell_type": "code",
   "execution_count": 10,
   "metadata": {},
   "outputs": [
    {
     "name": "stdout",
     "output_type": "stream",
     "text": [
      "Generating qMuVi data...\n",
      "Generating MIDI track files...\n",
      "Converting to .wav files using TiMidity++\n",
      "Errors in thread 0:\n"
     ]
    },
    {
     "ename": "CalledProcessError",
     "evalue": "Command '['/Users/ela017/software/pyvenv/lib/python3.9/site-packages/qmuvi/package_data/binaries/TiMidity-2.15.0/macos/timidity', '-Ow', '--preserve-silence', '-A,120', '--no-anti-alias', '--mod-wheel', '--portamento', '--vibrato', '--no-ch-pressure', '--mod-envelope', '--trace-text-meta', '--overlap-voice', '--default-bank=0', '--default-program=0', '--delay=d,0', '--chorus=n,64', '--reverb=f,40,0.28,0.7,100', '--voice-lpf=c', '--noise-shaping=4', '--resample=5', '--voice-queue=0', '--decay-time=0', '--interpolation=gauss', '-EFresamp=34', '--output-stereo', '--output-24bit', '--polyphony=15887', '--sampling-freq=44100', '--volume-curve=1.661', '--config-file=\"/Users/ela017/software/pyvenv/lib/python3.9/site-packages/qmuvi/package_data/resources/timidity/timidity.cfg\"', '-o', '\"/Users/ela017/myresearch/quantumcomputing/quantum-computing-hackathon/lessons/hadamard-output/hadamard-4.wav\"', '\"/Users/ela017/myresearch/quantumcomputing/quantum-computing-hackathon/lessons/hadamard-output/hadamard-4.mid\"']' died with <Signals.SIGABRT: 6>.",
     "output_type": "error",
     "traceback": [
      "\u001b[0;31m---------------------------------------------------------------------------\u001b[0m",
      "\u001b[0;31mCalledProcessError\u001b[0m                        Traceback (most recent call last)",
      "Cell \u001b[0;32mIn[10], line 10\u001b[0m\n\u001b[1;32m      6\u001b[0m circuit\u001b[38;5;241m.\u001b[39mbarrier()\n\u001b[1;32m      7\u001b[0m \u001b[38;5;66;03m# how to measure with qiskit that works with qmuvi?\u001b[39;00m\n\u001b[1;32m      8\u001b[0m \u001b[38;5;66;03m#circuit.\u001b[39;00m\n\u001b[0;32m---> 10\u001b[0m \u001b[43mqmuvi\u001b[49m\u001b[38;5;241;43m.\u001b[39;49m\u001b[43mgenerate_qmuvi\u001b[49m\u001b[43m(\u001b[49m\u001b[43mcircuit\u001b[49m\u001b[43m,\u001b[49m\u001b[43m \u001b[49m\u001b[38;5;124;43m\"\u001b[39;49m\u001b[38;5;124;43mhadamard\u001b[39;49m\u001b[38;5;124;43m\"\u001b[39;49m\u001b[43m)\u001b[49m\n",
      "File \u001b[0;32m~/software/pyvenv/lib/python3.9/site-packages/qmuvi/__init__.py:164\u001b[0m, in \u001b[0;36mgenerate_qmuvi\u001b[0;34m(quantum_circuit, qmuvi_name, noise_model, rhythm, instruments, note_map, invert_colours, fps, vpr, smooth_transitions, log_to_file, show_measured_probabilities_only, output_dir)\u001b[0m\n\u001b[1;32m    162\u001b[0m musical_processing\u001b[38;5;241m.\u001b[39mgenerate_midi_from_data(output_manager, instruments\u001b[38;5;241m=\u001b[39minstruments, note_map\u001b[38;5;241m=\u001b[39mnote_map, rhythm\u001b[38;5;241m=\u001b[39mrhythm)\n\u001b[1;32m    163\u001b[0m \u001b[38;5;66;03m# convert midi files to a wav file\u001b[39;00m\n\u001b[0;32m--> 164\u001b[0m \u001b[43mmusical_processing\u001b[49m\u001b[38;5;241;43m.\u001b[39;49m\u001b[43mconvert_midi_to_wav_timidity\u001b[49m\u001b[43m(\u001b[49m\u001b[43moutput_manager\u001b[49m\u001b[43m,\u001b[49m\u001b[43m \u001b[49m\u001b[43mlog_to_file\u001b[49m\u001b[38;5;241;43m=\u001b[39;49m\u001b[43mlog_to_file\u001b[49m\u001b[43m)\u001b[49m\n\u001b[1;32m    165\u001b[0m \u001b[38;5;66;03m# generate video from data\u001b[39;00m\n\u001b[1;32m    166\u001b[0m video_generation\u001b[38;5;241m.\u001b[39mgenerate_video_from_data(\n\u001b[1;32m    167\u001b[0m     quantum_circuit,\n\u001b[1;32m    168\u001b[0m     output_manager\u001b[38;5;241m=\u001b[39moutput_manager,\n\u001b[0;32m   (...)\u001b[0m\n\u001b[1;32m    174\u001b[0m     show_measured_probabilities_only\u001b[38;5;241m=\u001b[39mshow_measured_probabilities_only,\n\u001b[1;32m    175\u001b[0m )\n",
      "File \u001b[0;32m~/software/pyvenv/lib/python3.9/site-packages/qmuvi/musical_processing.py:469\u001b[0m, in \u001b[0;36mconvert_midi_to_wav_timidity\u001b[0;34m(output_manager, timeout, log_to_file)\u001b[0m\n\u001b[1;32m    466\u001b[0m         log\u001b[38;5;241m.\u001b[39minfo(thread_results[thread_index]\u001b[38;5;241m.\u001b[39mstdout\u001b[38;5;241m.\u001b[39mdecode())\n\u001b[1;32m    467\u001b[0m         log\u001b[38;5;241m.\u001b[39minfo(thread_results[thread_index]\u001b[38;5;241m.\u001b[39mstderr\u001b[38;5;241m.\u001b[39mdecode())\n\u001b[0;32m--> 469\u001b[0m \u001b[43mconvert_files_mid_to_wav_timidity_threading\u001b[49m\u001b[43m(\u001b[49m\u001b[43mfiles\u001b[49m\u001b[43m,\u001b[49m\u001b[43m \u001b[49m\u001b[43moptions_string\u001b[49m\u001b[43m,\u001b[49m\u001b[43m \u001b[49m\u001b[43mtimidity_convert_subprocess\u001b[49m\u001b[43m,\u001b[49m\u001b[43m \u001b[49m\u001b[43mtimeout\u001b[49m\u001b[38;5;241;43m=\u001b[39;49m\u001b[43mtimeout\u001b[49m\u001b[43m)\u001b[49m\n\u001b[1;32m    471\u001b[0m files \u001b[38;5;241m=\u001b[39m output_manager\u001b[38;5;241m.\u001b[39mglob(output_manager\u001b[38;5;241m.\u001b[39mdefault_name \u001b[38;5;241m+\u001b[39m \u001b[38;5;124m\"\u001b[39m\u001b[38;5;124m-*.wav\u001b[39m\u001b[38;5;124m\"\u001b[39m)\n\u001b[1;32m    472\u001b[0m \u001b[38;5;28;01mif\u001b[39;00m \u001b[38;5;28mlen\u001b[39m(files) \u001b[38;5;241m>\u001b[39m \u001b[38;5;241m1\u001b[39m:\n",
      "File \u001b[0;32m~/software/pyvenv/lib/python3.9/site-packages/qmuvi/musical_processing.py:597\u001b[0m, in \u001b[0;36mconvert_files_mid_to_wav_timidity_threading\u001b[0;34m(pathnames, options_string, timidity_convert_method, timeout)\u001b[0m\n\u001b[1;32m    594\u001b[0m \u001b[38;5;28;01mif\u001b[39;00m thread_errors[thread_index] \u001b[38;5;129;01mis\u001b[39;00m \u001b[38;5;129;01mnot\u001b[39;00m \u001b[38;5;28;01mNone\u001b[39;00m:\n\u001b[1;32m    595\u001b[0m     \u001b[38;5;66;03m# an error occured in the thread, show the error\u001b[39;00m\n\u001b[1;32m    596\u001b[0m     \u001b[38;5;28mprint\u001b[39m(\u001b[38;5;124mf\u001b[39m\u001b[38;5;124m\"\u001b[39m\u001b[38;5;124mErrors in thread \u001b[39m\u001b[38;5;132;01m{\u001b[39;00mthread_index\u001b[38;5;132;01m}\u001b[39;00m\u001b[38;5;124m:\u001b[39m\u001b[38;5;124m\"\u001b[39m)\n\u001b[0;32m--> 597\u001b[0m     \u001b[38;5;28;01mraise\u001b[39;00m thread_errors[thread_index][\u001b[38;5;241m0\u001b[39m]\n\u001b[1;32m    599\u001b[0m \u001b[38;5;28;01mif\u001b[39;00m thread_result\u001b[38;5;241m.\u001b[39mreturncode \u001b[38;5;241m!=\u001b[39m \u001b[38;5;241m0\u001b[39m:\n\u001b[1;32m    600\u001b[0m     \u001b[38;5;66;03m# timidity command failed in subprocess, show subprocess stdout and stderr\u001b[39;00m\n\u001b[1;32m    601\u001b[0m     \u001b[38;5;28mprint\u001b[39m(\u001b[38;5;124mf\u001b[39m\u001b[38;5;124m\"\u001b[39m\u001b[38;5;124mError from Timidity++ converting file \u001b[39m\u001b[38;5;132;01m{\u001b[39;00mfilename\u001b[38;5;132;01m}\u001b[39;00m\u001b[38;5;124m\"\u001b[39m)\n",
      "File \u001b[0;32m~/software/pyvenv/lib/python3.9/site-packages/qmuvi/musical_processing.py:456\u001b[0m, in \u001b[0;36mconvert_midi_to_wav_timidity.<locals>.timidity_convert_subprocess\u001b[0;34m(filename, options_string, thread_results, thread_errors, thread_index)\u001b[0m\n\u001b[1;32m    453\u001b[0m     log\u001b[38;5;241m.\u001b[39minfo(\u001b[38;5;124mf\u001b[39m\u001b[38;5;124m\"\u001b[39m\u001b[38;5;124mtimidity options: \u001b[39m\u001b[38;5;132;01m{\u001b[39;00moptions_string\u001b[38;5;132;01m}\u001b[39;00m\u001b[38;5;124m\"\u001b[39m)\n\u001b[1;32m    454\u001b[0m     log\u001b[38;5;241m.\u001b[39mdebug(\u001b[38;5;124mf\u001b[39m\u001b[38;5;124m\"\u001b[39m\u001b[38;5;124mexecuting subprocess command: \u001b[39m\u001b[38;5;132;01m{\u001b[39;00mcommand\u001b[38;5;132;01m}\u001b[39;00m\u001b[38;5;124m\"\u001b[39m)\n\u001b[0;32m--> 456\u001b[0m thread_results[thread_index] \u001b[38;5;241m=\u001b[39m \u001b[43msubprocess\u001b[49m\u001b[38;5;241;43m.\u001b[39;49m\u001b[43mrun\u001b[49m\u001b[43m(\u001b[49m\u001b[43mcommand\u001b[49m\u001b[43m,\u001b[49m\u001b[43m \u001b[49m\u001b[43mcwd\u001b[49m\u001b[38;5;241;43m=\u001b[39;49m\u001b[43mpackage_path\u001b[49m\u001b[43m,\u001b[49m\u001b[43m \u001b[49m\u001b[43mcapture_output\u001b[49m\u001b[38;5;241;43m=\u001b[39;49m\u001b[38;5;28;43;01mTrue\u001b[39;49;00m\u001b[43m,\u001b[49m\u001b[43m \u001b[49m\u001b[43mcheck\u001b[49m\u001b[38;5;241;43m=\u001b[39;49m\u001b[38;5;28;43;01mTrue\u001b[39;49;00m\u001b[43m,\u001b[49m\u001b[43m \u001b[49m\u001b[43mshell\u001b[49m\u001b[38;5;241;43m=\u001b[39;49m\u001b[43mshell\u001b[49m\u001b[43m)\u001b[49m\n\u001b[1;32m    458\u001b[0m \u001b[38;5;28;01mif\u001b[39;00m log_to_file \u001b[38;5;129;01mis\u001b[39;00m \u001b[38;5;28;01mTrue\u001b[39;00m:\n\u001b[1;32m    459\u001b[0m     log\u001b[38;5;241m.\u001b[39mdebug(\u001b[38;5;124m\"\u001b[39m\u001b[38;5;124mcompleted subprocess\u001b[39m\u001b[38;5;124m\"\u001b[39m)\n",
      "File \u001b[0;32m~/.pyenv/versions/3.9.4/lib/python3.9/subprocess.py:528\u001b[0m, in \u001b[0;36mrun\u001b[0;34m(input, capture_output, timeout, check, *popenargs, **kwargs)\u001b[0m\n\u001b[1;32m    526\u001b[0m     retcode \u001b[38;5;241m=\u001b[39m process\u001b[38;5;241m.\u001b[39mpoll()\n\u001b[1;32m    527\u001b[0m     \u001b[38;5;28;01mif\u001b[39;00m check \u001b[38;5;129;01mand\u001b[39;00m retcode:\n\u001b[0;32m--> 528\u001b[0m         \u001b[38;5;28;01mraise\u001b[39;00m CalledProcessError(retcode, process\u001b[38;5;241m.\u001b[39margs,\n\u001b[1;32m    529\u001b[0m                                  output\u001b[38;5;241m=\u001b[39mstdout, stderr\u001b[38;5;241m=\u001b[39mstderr)\n\u001b[1;32m    530\u001b[0m \u001b[38;5;28;01mreturn\u001b[39;00m CompletedProcess(process\u001b[38;5;241m.\u001b[39margs, retcode, stdout, stderr)\n",
      "\u001b[0;31mCalledProcessError\u001b[0m: Command '['/Users/ela017/software/pyvenv/lib/python3.9/site-packages/qmuvi/package_data/binaries/TiMidity-2.15.0/macos/timidity', '-Ow', '--preserve-silence', '-A,120', '--no-anti-alias', '--mod-wheel', '--portamento', '--vibrato', '--no-ch-pressure', '--mod-envelope', '--trace-text-meta', '--overlap-voice', '--default-bank=0', '--default-program=0', '--delay=d,0', '--chorus=n,64', '--reverb=f,40,0.28,0.7,100', '--voice-lpf=c', '--noise-shaping=4', '--resample=5', '--voice-queue=0', '--decay-time=0', '--interpolation=gauss', '-EFresamp=34', '--output-stereo', '--output-24bit', '--polyphony=15887', '--sampling-freq=44100', '--volume-curve=1.661', '--config-file=\"/Users/ela017/software/pyvenv/lib/python3.9/site-packages/qmuvi/package_data/resources/timidity/timidity.cfg\"', '-o', '\"/Users/ela017/myresearch/quantumcomputing/quantum-computing-hackathon/lessons/hadamard-output/hadamard-4.wav\"', '\"/Users/ela017/myresearch/quantumcomputing/quantum-computing-hackathon/lessons/hadamard-output/hadamard-4.mid\"']' died with <Signals.SIGABRT: 6>."
     ]
    }
   ],
   "source": [
    "# c\n",
    "circuit = QuantumCircuit(1)\n",
    "# Barrier gates tell qMuVi where to sample the state in the circuit. It's like you are measuring the system with out truly collapsing the state\n",
    "circuit.barrier()\n",
    "circuit.h(0)\n",
    "circuit.barrier()\n",
    "# how to measure with qiskit that works with qmuvi?\n",
    "#circuit.\n",
    "\n",
    "qmuvi.generate_qmuvi(circuit, \"hadamard\")"
   ]
  },
  {
   "cell_type": "markdown",
   "metadata": {},
   "source": [
    "## Entanglement or \"CNOT\" Gate\n"
   ]
  },
  {
   "cell_type": "code",
   "execution_count": null,
   "metadata": {},
   "outputs": [],
   "source": [
    "# Here is the boiler plate\n",
    "dev = qml.device(\"default.qubit\", wires=)\n",
    "@qml.qnode(dev)\n",
    "def circuit():\n",
    "    # add your circuits here\n",
    "    return qml.counts(all_outcomes=True)\n",
    "# then run the circuit and plot the result. How many shots do you think you need to take to really get the ideal (true) result?\n",
    "results = \n",
    "PlotPennyLaneHisto(results, '100 shots')\n"
   ]
  },
  {
   "cell_type": "markdown",
   "metadata": {},
   "source": [
    "# BELOW MUST REMOVE"
   ]
  },
  {
   "cell_type": "code",
   "execution_count": null,
   "metadata": {
    "id": "jzu4rPGhhlmV"
   },
   "outputs": [],
   "source": [
    "from google.colab import files\n",
    "from IPython.display import Image"
   ]
  },
  {
   "cell_type": "code",
   "execution_count": null,
   "metadata": {
    "colab": {
     "base_uri": "https://localhost:8080/",
     "height": 73
    },
    "id": "AnauPfsHhsir",
    "outputId": "3e8ceb74-7730-4182-c9a0-7565c67483c5"
   },
   "outputs": [],
   "source": [
    "uploaded = files.upload()"
   ]
  },
  {
   "cell_type": "code",
   "execution_count": null,
   "metadata": {
    "colab": {
     "base_uri": "https://localhost:8080/",
     "height": 300
    },
    "id": "VFagJ4h2h9fI",
    "outputId": "22e7a346-b915-4f5b-b2da-b8bfc1903160"
   },
   "outputs": [],
   "source": [
    "Image('Screenshot_2024-01-29_213651.png', width = 525)"
   ]
  },
  {
   "cell_type": "markdown",
   "metadata": {
    "id": "IV_pYEQKBotG"
   },
   "source": [
    "The circuit can be used as a guide towards writing the program. We will first code the Deutsch-Jozsa algorithm using qubits before generalizing it to qutrits to get a basic understanding of how the algorithm works."
   ]
  },
  {
   "cell_type": "code",
   "execution_count": null,
   "metadata": {
    "colab": {
     "base_uri": "https://localhost:8080/"
    },
    "id": "acDd5dmxFv5p",
    "outputId": "55809d8b-1ce6-4cef-e171-90f1608fad7e"
   },
   "outputs": [],
   "source": [
    "\n",
    "# Downloading and importing all necessary libraries\n",
    "!pip install pennylane pennylane-qiskit\n",
    "import pennylane as qml\n",
    "from pennylane import numpy as np\n",
    "import matplotlib.pyplot as plt\n"
   ]
  },
  {
   "cell_type": "code",
   "execution_count": null,
   "metadata": {
    "colab": {
     "base_uri": "https://localhost:8080/",
     "height": 452
    },
    "id": "o-r7RsoBD7qa",
    "outputId": "8a89ca28-ea61-4893-ade6-706d19c57db1"
   },
   "outputs": [],
   "source": [
    "\n",
    "# Defining the quantum device with n+1 qubits\n",
    "n = 3\n",
    "dev = qml.device(\"default.qubit\", wires = n+1)\n",
    "\n",
    "# Defining the Deutsch-Jozsa algorithm\n",
    "@qml.qnode(dev)\n",
    "\n",
    "def dj_algorithm(case, n):\n",
    "    # Setting up the output qubit\n",
    "    qml.PauliX(wires=n)\n",
    "    qml.Hadamard(wires=n)\n",
    "\n",
    "    # Setting up the input register\n",
    "    for qubit in range(n):\n",
    "        qml.Hadamard(wires=qubit)\n",
    "\n",
    "    # Appending the oracle Uf\n",
    "    if case == \"balanced\":\n",
    "        b = np.random.randint(1, 2**n)\n",
    "        b_str = format(b, '0'+str(n)+'b')\n",
    "\n",
    "        for qubit in range(len(b_str)):\n",
    "            if b_str[qubit] == '1':\n",
    "                qml.PauliX(wires=qubit)\n",
    "\n",
    "        for qubit in range(n):\n",
    "            qml.CNOT(wires=[qubit, n])\n",
    "\n",
    "        for qubit in range(len(b_str)):\n",
    "            if b_str[qubit] == '1':\n",
    "                qml.PauliX(wires=qubit)\n",
    "\n",
    "    elif case == \"constant\":\n",
    "        output = np.random.randint(2)\n",
    "        if output == 1:\n",
    "            qml.PauliX(wires=n)\n",
    "\n",
    "    # Performing H-gates again and measuring\n",
    "    for qubit in range(n):\n",
    "        qml.Hadamard(wires=qubit)\n",
    "\n",
    "    return qml.probs(wires=range(n))\n",
    "\n",
    "# Runing the circuit\n",
    "result = dj_algorithm('constant', n)\n",
    "\n",
    "# Obtaining each input state\n",
    "x_values = range(2**n)\n",
    "input_states = [format(i, '0'+str(n)+'b') for i in x_values]\n",
    "\n",
    "# Converting probabilities to a NumPy array for plotting\n",
    "probabilities = np.array(result)\n",
    "\n",
    "# Ploting the bar chart using numpy and matplotlib\n",
    "plt.bar(input_states, probabilities, color='blue', alpha=0.7)\n",
    "plt.ylabel('Probability')\n",
    "plt.title('Probability Distribution')\n",
    "plt.show()\n"
   ]
  },
  {
   "cell_type": "markdown",
   "metadata": {
    "id": "S15_kHfMVEjx"
   },
   "source": [
    "With 3 qubits and a constant oracle, we are expected to get a probability of 1 at '000', indicating that there is a 0% chance of measuring '111'. The output above verifies our assumption; hence, verifying the constant function."
   ]
  },
  {
   "cell_type": "markdown",
   "metadata": {
    "id": "G6RvaapI6w81"
   },
   "source": [
    "Now, let us rerun the program with a balanced oracle:"
   ]
  },
  {
   "cell_type": "code",
   "execution_count": null,
   "metadata": {
    "colab": {
     "base_uri": "https://localhost:8080/",
     "height": 452
    },
    "id": "WYgFsvsy4O-3",
    "outputId": "1956a1e3-b042-443a-a798-7fafd315133b"
   },
   "outputs": [],
   "source": [
    "\n",
    "# Defining the quantum device with n+1 qubits\n",
    "n = 3\n",
    "dev = qml.device(\"default.qubit\", wires = n+1)\n",
    "\n",
    "# Defining the Deutsch-Jozsa algorithm\n",
    "@qml.qnode(dev)\n",
    "\n",
    "def dj_algorithm(case, n):\n",
    "    # Setting up the output qubit\n",
    "    qml.PauliX(wires=n)\n",
    "    qml.Hadamard(wires=n)\n",
    "\n",
    "    # Setting up the input register\n",
    "    for qubit in range(n):\n",
    "        qml.Hadamard(wires=qubit)\n",
    "\n",
    "    # Appending the oracle Uf\n",
    "    if case == \"balanced\":\n",
    "        b = np.random.randint(1, 2**n)\n",
    "        b_str = format(b, '0'+str(n)+'b')\n",
    "\n",
    "        for qubit in range(len(b_str)):\n",
    "            if b_str[qubit] == '1':\n",
    "                qml.PauliX(wires=qubit)\n",
    "\n",
    "        for qubit in range(n):\n",
    "            qml.CNOT(wires=[qubit, n])\n",
    "\n",
    "        for qubit in range(len(b_str)):\n",
    "            if b_str[qubit] == '1':\n",
    "                qml.PauliX(wires=qubit)\n",
    "\n",
    "    elif case == \"constant\":\n",
    "        output = np.random.randint(2)\n",
    "        if output == 1:\n",
    "            qml.PauliX(wires=n)\n",
    "\n",
    "    # Performing H-gates again and measuring\n",
    "    for qubit in range(n):\n",
    "        qml.Hadamard(wires=qubit)\n",
    "\n",
    "    return qml.probs(wires=range(n))\n",
    "\n",
    "# Runing the circuit\n",
    "result = dj_algorithm('balanced', n)\n",
    "\n",
    "# Obtaining each input state\n",
    "x_values = range(2**n)\n",
    "input_states = [format(i, '0'+str(n)+'b') for i in x_values]\n",
    "\n",
    "# Converting probabilities to a NumPy array for plotting\n",
    "probabilities = np.array(result)\n",
    "\n",
    "# Ploting the bar chart using numpy and matplotlib\n",
    "plt.bar(input_states, probabilities, color='blue', alpha=0.7)\n",
    "plt.ylabel('Probability')\n",
    "plt.title('Probability Distribution')\n",
    "plt.show()\n"
   ]
  },
  {
   "cell_type": "markdown",
   "metadata": {
    "id": "IDsoQLL35azV"
   },
   "source": [
    "The program again correctly outputs the expected probability of 1 at '111' indicating that there is a 0% chance of obtaining a '000' when the function is balanced."
   ]
  },
  {
   "cell_type": "markdown",
   "metadata": {
    "id": "5ooTeSoh6LzM"
   },
   "source": [
    "The algorithm can be run using any arbitrary number of qubits, and the resulting probabilites would always be same, with the only difference being the number of zeroes and ones in the input state."
   ]
  },
  {
   "cell_type": "markdown",
   "metadata": {
    "id": "FIhV6bYb6uWJ"
   },
   "source": [
    "## **Extending to Qutrits**"
   ]
  },
  {
   "cell_type": "markdown",
   "metadata": {
    "id": "oxXBezh6s1yY"
   },
   "source": [
    "Now let us look at the Deutsch-Jozsa algorithm but for Qutrits:"
   ]
  },
  {
   "cell_type": "markdown",
   "metadata": {
    "id": "sfQyOzkqtE91"
   },
   "source": [
    "Initially, the algorithm prepares the quantum system in a superposition of all possible inputs. When working with qubits, the function takes $n$  bits as input and the quantum system is prepared in a superposition of $2^n$  states. When working with qutrits,the function takes $n$ qutrits as an input and the quantum system is prepared in a superposition of $3^n$ states. The first  $n−1$  qubits are set to  $|0⟩$ , while the final qubit is set to $|2⟩$ . The superposition is then achieved by applying a Hadamard gate on all the qutrits."
   ]
  },
  {
   "cell_type": "markdown",
   "metadata": {
    "id": "AaQPvcub5C4j"
   },
   "source": [
    "Before we can understand the superposition, we must first understand how Hadamard gates extend to qutrits. The following equation represents a Hadamard gate for a qutrit:"
   ]
  },
  {
   "cell_type": "markdown",
   "metadata": {
    "id": "4penGeKHzMU2"
   },
   "source": [
    "$$H|\\vec{x}⟩ = \\frac{1}{\\sqrt{3}} \\sum_{\\vec{z}=0}^{2}\\limits e^{\\frac{-i2\\pi}{3}(\\vec{x}\\cdot\\vec{z})}|\\vec{z}⟩$$\n",
    "\n"
   ]
  },
  {
   "cell_type": "markdown",
   "metadata": {
    "id": "Nvb1RMwF0ZGZ"
   },
   "source": [
    "The negative factor in the exponent is a phase shift, and since we are only concerned with the superposition of the quantum system, it can be ignored:"
   ]
  },
  {
   "cell_type": "markdown",
   "metadata": {
    "id": "RuxDIgDT035w"
   },
   "source": [
    "$$H|\\vec{x}⟩ = \\frac{1}{\\sqrt{3}} \\sum_{\\vec{z}=0}^{2}\\limits e^{\\frac{i2\\pi}{3}(\\vec{x}\\cdot \\vec{z})}|\\vec{z}⟩$$\n",
    "\n"
   ]
  },
  {
   "cell_type": "markdown",
   "metadata": {
    "id": "cQlLpLpU1Qoj"
   },
   "source": [
    "The multiplication of two Hadamard Gates for qutrits can be expressed via the following equation:\n"
   ]
  },
  {
   "cell_type": "markdown",
   "metadata": {
    "id": "sS-dyxDj5zVU"
   },
   "source": [
    "$$H \\otimes H|\\vec{x}⟩ = \\frac{1}{\\sqrt{3^2}} \\sum_{\\vec{z_1},\\vec{z_2} = 0}^{3^2 - 1}\\limits e^{\\frac{i2\\pi}{3}(\\vec{x_1}\\cdot \\vec{z_1} + \\vec{x_2}\\cdot \\vec{z_2})}|\\vec{z_1}\\vec{z_2}⟩$$\n",
    "\n"
   ]
  },
  {
   "cell_type": "markdown",
   "metadata": {
    "id": "92X5yT6R6smX"
   },
   "source": [
    "Going forward we will write\n",
    "\n",
    "$\\vec{x_1}\\cdot \\vec{z_1} + \\vec{x_2}\\cdot \\vec{z_2} + \\dotsb + \\vec{x_n}\\cdot\\vec{z_n}$ as $\\bar{x}\\cdot\\bar{z}$.\n",
    "\n",
    "$|\\vec{z_1}\\vec{z_1}\\dotsm\\vec{z_n}⟩$ as $|\\bar{z}⟩$\n",
    "\n",
    "and $\\vec{z_1},\\vec{z_1},\\dotsc,\\vec{z_n}$ as $\\bar{z}$."
   ]
  },
  {
   "cell_type": "markdown",
   "metadata": {
    "id": "xq4bZkSf9uef"
   },
   "source": [
    "Thus with our new notation, the multipication of $n$ Hadamard Gates of qutrits can be represented as follows:"
   ]
  },
  {
   "cell_type": "markdown",
   "metadata": {
    "id": "zYWqRsbX95S-"
   },
   "source": [
    "$$H^{\\otimes n}|\\vec{x}⟩ = \\frac{1}{\\sqrt{3^n}} \\sum_{\\bar{z} = 0}^{3^n - 1}\\limits e^{\\frac{i2\\pi}{3}(\\bar{x}\\cdot \\bar{z})}|\\bar{z}⟩$$\n",
    "\n"
   ]
  },
  {
   "cell_type": "markdown",
   "metadata": {
    "id": "D-nkgI4F-84j"
   },
   "source": [
    "We are now ready to see what the superposition of $n$ qutrits looks like, with $w = e^{\\frac{i2\\pi}{3}}$:"
   ]
  },
  {
   "cell_type": "markdown",
   "metadata": {
    "id": "iON_zmKv_VtW"
   },
   "source": [
    "$$\\frac{1}{\\sqrt{3^n}} \\sum_{\\bar{z} = 0}^{3^n - 1}\\limits w^{(\\bar{x} \\cdot \\bar{z})}|\\bar{z}⟩$$\n"
   ]
  },
  {
   "cell_type": "markdown",
   "metadata": {
    "id": "yJ3LBJapAfMc"
   },
   "source": [
    "Just like with qubits, we now apply the oracle and reach the following measurement state:"
   ]
  },
  {
   "cell_type": "markdown",
   "metadata": {
    "id": "D4oyW21BAmJw"
   },
   "source": [
    "$$|\\psi⟩ =  \\frac{1}{3^n} \\sum_{\\bar{z} = 0}^{3^n-1} \\sum_{\\bar{x} = 0}^{3^n-1}w^{(\\bar{x}\\cdot\\bar{z}) + f(\\bar{x})}|\\bar{z}⟩$$"
   ]
  },
  {
   "cell_type": "markdown",
   "metadata": {
    "id": "ealFExCqCauu"
   },
   "source": [
    "With $f(x)$ representing the mapping that is either balanced or constant."
   ]
  },
  {
   "cell_type": "markdown",
   "metadata": {
    "id": "y5y088vsCiCQ"
   },
   "source": [
    "The above measurement state yields the following representation when $f(x)$ is constant:"
   ]
  },
  {
   "cell_type": "markdown",
   "metadata": {
    "id": "ErOXKRNXCrYE"
   },
   "source": [
    "$$|\\psi⟩ = w^{f(0)}|0⟩$$"
   ]
  },
  {
   "cell_type": "markdown",
   "metadata": {
    "id": "9uwbH842w5Zf"
   },
   "source": [
    "## **Coding the qutrit implementation of Deutsch-Jozsa**"
   ]
  },
  {
   "cell_type": "markdown",
   "metadata": {
    "id": "QlEndlpmw9A-"
   },
   "source": [
    "Our primary goal is to extend the Deutsch-Jozsa algorithm to qutrits and analyze if it generalizes easily or not. A few key things to keep into consideration would be transitioning from base-2 to base-3 and a change in the number of possible states from $2^n$ to $3^n$."
   ]
  },
  {
   "cell_type": "markdown",
   "metadata": {
    "id": "rLRzbidcHc1K"
   },
   "source": [
    "Let's use the following circuit as a guide towards writing the code for our Deutsch-Jozsa implementation using qutrits:"
   ]
  },
  {
   "cell_type": "code",
   "execution_count": null,
   "metadata": {
    "colab": {
     "base_uri": "https://localhost:8080/",
     "height": 73
    },
    "id": "_dm2RG-1p77x",
    "outputId": "cb2c2d83-2a5e-4abf-95e0-21821e73e18e"
   },
   "outputs": [],
   "source": [
    "uploaded2 = uploaded = files.upload()"
   ]
  },
  {
   "cell_type": "code",
   "execution_count": null,
   "metadata": {
    "colab": {
     "base_uri": "https://localhost:8080/",
     "height": 287
    },
    "id": "Fqi7-oJ2rQWY",
    "outputId": "5a584a5d-3c4b-4812-e6e7-1a77c4c03382"
   },
   "outputs": [],
   "source": [
    "Image('Screenshot 2024-01-30 063702 (1).png', width = 525)"
   ]
  },
  {
   "cell_type": "markdown",
   "metadata": {
    "id": "gRkAqZWL-Vrc"
   },
   "source": [
    "The quantum gates also change when we are dealing with third dimensional systems. Fortunately, PennyLane provides us with most of the gates that we will be needing for implementing this algorithm using qutrits. The 'Hadamard' function changes to 'THadamard' and the 'PauliX' function changes to 'TShift'. For the qutrit CNOT gate, we define a custom unitary matrix, and this gives us everything we need to write the code."
   ]
  },
  {
   "cell_type": "code",
   "execution_count": null,
   "metadata": {
    "colab": {
     "base_uri": "https://localhost:8080/",
     "height": 452
    },
    "id": "eUduwnHEaSSJ",
    "outputId": "e23727cf-92bb-4f98-8aee-fd2d476d80c3"
   },
   "outputs": [],
   "source": [
    "import pennylane as qml\n",
    "from pennylane import numpy as np\n",
    "import matplotlib.pyplot as plt\n",
    "\n",
    "n = 2\n",
    "\n",
    "# Define the quantum device with n+1 qutrits\n",
    "dev = qml.device(\"default.qutrit\", wires=n+1)\n",
    "\n",
    "# CNOT gate for qutrits\n",
    "cnot_qutrit = np.array     ([[1, 0, 0, 0, 0, 0, 0, 0, 0],\n",
    "                             [0, 1, 0, 0, 0, 0, 0, 0, 0],\n",
    "                             [0, 0, 1, 0, 0, 0, 0, 0, 0],\n",
    "                             [0, 0, 0, 0, 0, 0, 0, 0, 1],\n",
    "                             [0, 0, 0, 0, 0, 0, 1, 0, 0],\n",
    "                             [0, 0, 0, 0, 0, 0, 0, 1, 0],\n",
    "                             [0, 0, 0, 0, 0, 1, 0, 0, 0],\n",
    "                             [0, 0, 0, 1, 0, 0, 0, 0, 0],\n",
    "                             [0, 0, 0, 0, 1, 0, 0, 0, 0]])\n",
    "\n",
    "# Define the Deutsch-Jozsa algorithm in PennyLane\n",
    "@qml.qnode(dev)\n",
    "def dj_algorithm(case, n):\n",
    "    # Set up the output qutrit\n",
    "    qml.TShift(wires=n)\n",
    "    qml.THadamard(wires=n)\n",
    "\n",
    "    # Set up the input register\n",
    "    for qutrit in range(n):\n",
    "        qml.THadamard(wires=qutrit)\n",
    "\n",
    "    # Append the oracle gate\n",
    "    if case == \"balanced\":\n",
    "        b = np.random.randint(1, 3**n)\n",
    "        b_str = np.base_repr(b, base=3)\n",
    "\n",
    "        for qutrit in range(len(b_str)):\n",
    "            if (b_str[qutrit] == ('1')) or (b_str[qutrit] == ('2')):\n",
    "                qml.TShift(wires=qutrit)\n",
    "\n",
    "        for qutrit in range(n):\n",
    "            qml.QutritUnitary(cnot_qutrit, wires = [qutrit, n])\n",
    "\n",
    "        for qutrit in range(len(b_str)):\n",
    "            if (b_str[qutrit] == ('1')) or (b_str[qutrit] == ('2')):\n",
    "                qml.TShift(wires=qutrit)\n",
    "\n",
    "    elif case == \"constant\":\n",
    "        output = np.random.randint(2)\n",
    "        if (output == 1) or (output == 2):\n",
    "            qml.TShift(wires=n)\n",
    "\n",
    "    # Perform H-gates again and measure\n",
    "    for qutrit in range(n):\n",
    "        qml.THadamard(wires=qutrit)\n",
    "\n",
    "    return qml.probs(wires=range(n))\n",
    "\n",
    "# Run the circuits\n",
    "result = dj_algorithm('constant', n)\n",
    "\n",
    "# Displaying the probabilities\n",
    "states = [''.join(str((i // (3 ** j)) % 3) for j in range(n - 1, -1, -1)) for i in range(3 ** n)]\n",
    "plt.bar(states, result, color='blue', alpha=0.7)\n",
    "plt.ylabel('Probability')\n",
    "plt.title('Probability Distribution')\n",
    "plt.show()"
   ]
  },
  {
   "cell_type": "markdown",
   "metadata": {
    "id": "nvMa0pWXy7oV"
   },
   "source": [
    "With 2 qutrits and a constant oracle, our expected output of obtaining a probability of 1 at |00> is verified. Using this result, we can certainly infer that the Deutsch-jozsa algorithm adapts well when the oracle is constant."
   ]
  },
  {
   "cell_type": "markdown",
   "metadata": {
    "id": "d1RhXp8N0AxK"
   },
   "source": [
    "Considering the case of a balanced oracle now:"
   ]
  },
  {
   "cell_type": "code",
   "execution_count": null,
   "metadata": {
    "colab": {
     "base_uri": "https://localhost:8080/",
     "height": 452
    },
    "id": "L--uO23wa0NR",
    "outputId": "62e60b38-663e-47dd-9abc-5e24507f4bd8"
   },
   "outputs": [],
   "source": [
    "import pennylane as qml\n",
    "from pennylane import numpy as np\n",
    "import matplotlib.pyplot as plt\n",
    "\n",
    "n = 2\n",
    "\n",
    "# Define the quantum device with n+1 qutrits\n",
    "dev = qml.device(\"default.qutrit\", wires=n+1)\n",
    "\n",
    "# CNOT gate for qutrits\n",
    "cnot_qutrit = np.array     ([[1, 0, 0, 0, 0, 0, 0, 0, 0],\n",
    "                             [0, 1, 0, 0, 0, 0, 0, 0, 0],\n",
    "                             [0, 0, 1, 0, 0, 0, 0, 0, 0],\n",
    "                             [0, 0, 0, 0, 0, 0, 0, 0, 1],\n",
    "                             [0, 0, 0, 0, 0, 0, 1, 0, 0],\n",
    "                             [0, 0, 0, 0, 0, 0, 0, 1, 0],\n",
    "                             [0, 0, 0, 0, 0, 1, 0, 0, 0],\n",
    "                             [0, 0, 0, 1, 0, 0, 0, 0, 0],\n",
    "                             [0, 0, 0, 0, 1, 0, 0, 0, 0]])\n",
    "\n",
    "# Define the Deutsch-Jozsa algorithm in PennyLane\n",
    "@qml.qnode(dev)\n",
    "def dj_algorithm(case, n):\n",
    "    # Set up the output qutrit\n",
    "    qml.TShift(wires=n)\n",
    "    qml.THadamard(wires=n)\n",
    "\n",
    "    # Set up the input register\n",
    "    for qutrit in range(n):\n",
    "        qml.THadamard(wires=qutrit)\n",
    "\n",
    "    # Append the oracle gate\n",
    "    if case == \"balanced\":\n",
    "        b = np.random.randint(1, 3**n)\n",
    "        b_str = np.base_repr(b, base=3)\n",
    "\n",
    "        for qutrit in range(len(b_str)):\n",
    "            if (b_str[qutrit] == ('1')) or (b_str[qutrit] == ('2')):\n",
    "                qml.TShift(wires=qutrit)\n",
    "\n",
    "        for qutrit in range(n):\n",
    "            qml.QutritUnitary(cnot_qutrit, wires = [qutrit, n])\n",
    "\n",
    "        for qutrit in range(len(b_str)):\n",
    "            if (b_str[qutrit] == ('1')) or (b_str[qutrit] == ('2')):\n",
    "                qml.TShift(wires=qutrit)\n",
    "\n",
    "    elif case == \"constant\":\n",
    "        output = np.random.randint(2)\n",
    "        if (output == 1) or (output == 2):\n",
    "            qml.TShift(wires=n)\n",
    "\n",
    "    # Perform H-gates again and measure\n",
    "    for qutrit in range(n):\n",
    "        qml.THadamard(wires=qutrit)\n",
    "\n",
    "    return qml.probs(wires=range(n))\n",
    "\n",
    "# Run the circuits\n",
    "result = dj_algorithm('balanced', n)\n",
    "\n",
    "# Displaying the probabilities\n",
    "states = [''.join(str((i // (3 ** j)) % 3) for j in range(n - 1, -1, -1)) for i in range(3 ** n)]\n",
    "plt.bar(states, result, color='blue', alpha=0.7)\n",
    "plt.ylabel('Probability')\n",
    "plt.title('Probability Distribution')\n",
    "plt.show()"
   ]
  },
  {
   "cell_type": "markdown",
   "metadata": {
    "id": "nzkcs--ytpAA"
   },
   "source": [
    "The output obtained is rather interesting, but even more abstract in the sense that it does not particularly reveal the nature of the oracle. Obtaining a superposition between states means that we cannot say with certainty if the function is constant or balanced."
   ]
  },
  {
   "cell_type": "markdown",
   "metadata": {
    "id": "8r8YuaoSjWHA"
   },
   "source": [
    "## **Conclusion**"
   ]
  },
  {
   "cell_type": "markdown",
   "metadata": {
    "id": "yoZrqvtjj3Bd"
   },
   "source": [
    "We were able to simulate the expected outcome when working with constant oracles. However, it turns out that Deutsch-Jozsa for qubits does not generalize as easily for qutrits when it comes to balanced functions. Running the simulation multiple times leads us to the same result repetitively implying that either it is impossible to identify a balanced function using the standard Deutsch-Jozsa algorithm for qubits that has been extended to qutrits, or a balanced case simply does not exist for qutrits and the function is neither constant nor balanced."
   ]
  },
  {
   "cell_type": "markdown",
   "metadata": {
    "id": "r7k35V66jeCc"
   },
   "source": [
    "## **References**"
   ]
  },
  {
   "cell_type": "markdown",
   "metadata": {
    "id": "BhNORvsnjlMr"
   },
   "source": [
    "https://github.com/filipecorrea/deutsch-jozsa/blob/master/deutsch-jozsa.ipynb"
   ]
  },
  {
   "cell_type": "markdown",
   "metadata": {
    "id": "1ibhSbrbJpV3"
   },
   "source": [
    "https://citeseerx.ist.psu.edu/document?repid=rep1&type=pdf&doi=2b8bbd69f4e682f6ce6ea7597961d26c5441f287"
   ]
  },
  {
   "cell_type": "markdown",
   "metadata": {
    "id": "RRfzvVOLKByU"
   },
   "source": [
    "https://pennylane.ai/qml/demos/tutorial_qutrits_bernstein_vazirani/"
   ]
  },
  {
   "cell_type": "markdown",
   "metadata": {
    "id": "stgY5-FaKCss"
   },
   "source": [
    "https://en.wikipedia.org/wiki/Deutsch%E2%80%93Jozsa_algorithm"
   ]
  },
  {
   "cell_type": "markdown",
   "metadata": {
    "id": "Lk9ueM7G_4yO"
   },
   "source": [
    "https://www.iosrjournals.org/iosr-jap/papers/Vol10-issue6/Version-2/D1006021619.pdf"
   ]
  }
 ],
 "metadata": {
  "colab": {
   "provenance": []
  },
  "kernelspec": {
   "display_name": "Python 3 (ipykernel)",
   "language": "python",
   "name": "python3"
  },
  "language_info": {
   "codemirror_mode": {
    "name": "ipython",
    "version": 3
   },
   "file_extension": ".py",
   "mimetype": "text/x-python",
   "name": "python",
   "nbconvert_exporter": "python",
   "pygments_lexer": "ipython3",
   "version": "3.9.4"
  }
 },
 "nbformat": 4,
 "nbformat_minor": 4
}
