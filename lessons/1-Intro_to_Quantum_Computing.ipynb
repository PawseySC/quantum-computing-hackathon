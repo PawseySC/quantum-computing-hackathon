{
 "cells": [
  {
   "cell_type": "markdown",
   "metadata": {},
   "source": [
    "# Introduction to Quantum Computing"
   ]
  },
  {
   "cell_type": "markdown",
   "metadata": {},
   "source": [
    "## Overview \n",
    "\n",
    "This notebook provides an introduction to some basic quantum computing concepts and how to program a quantum computer using quantum circuits.\n",
    "\n",
    "We recommend you have some knowledge of:\n",
    "* Python programming: language, importing libraries, using functions.\n",
    "* basic quantum computing concepts: qubits, quantum processes like superposition, interference and entanglement.\n",
    "\n",
    "### Learning Objects \n",
    "\n",
    "After using this notebook you should have an understanding of \n",
    "\n",
    "* What are *qubits* and why they are different from classical binary bits.\n",
    "* What is *superposition* and how it could be used to solve a problem.\n",
    "* What is *interference & entanglement* and how it could be used to solve a problem.\n",
    "* What are *quantum circuits* and how they relate to solving a problem. \n"
   ]
  },
  {
   "cell_type": "code",
   "execution_count": 1,
   "metadata": {},
   "outputs": [],
   "source": [
    "# here lets import and set some python/jupyter preliminaries\n",
    "# you don't need to do much here other than run the cell\n",
    "%matplotlib inline\n",
    "\n",
    "# generic plotting library \n",
    "import matplotlib\n",
    "import matplotlib.pyplot as plt\n",
    "matplotlib.logging.getLogger('matplotlib.font_manager').disabled = True\n",
    "\n",
    "# penny lane quantum computing library\n",
    "import pennylane as qml\n",
    "from pennylane import numpy as np\n",
    "qml.drawer.use_style('sketch')\n",
    "\n",
    "# quatnum music visualisation \n",
    "import qmuvi\n",
    "from qiskit import QuantumCircuit\n",
    "\n",
    "# import interactive widgets\n",
    "from ipywidgets import interact, interactive, fixed, interact_manual\n",
    "import ipywidgets as widgets\n",
    "from IPython.display import display, Markdown, Latex\n",
    "\n"
   ]
  },
  {
   "cell_type": "code",
   "execution_count": 36,
   "metadata": {},
   "outputs": [],
   "source": [
    "# some helper function definitions\n",
    "# again we won't go into the details here but you will need to run the cell\n",
    "\n",
    "def PlotPennyLaneHisto(results, plottitle : str = ''):\n",
    "    with plt.xkcd():\n",
    "    # Based on \"Stove Ownership\" from XKCD by Randall Munroe\n",
    "    # https://xkcd.com/418/\n",
    "\n",
    "        fig = plt.figure()\n",
    "        ax = fig.add_axes((0.1, 0.2, 0.8, 0.7))\n",
    "        ax.spines[['top', 'right']].set_visible(False)\n",
    "        labels = [rf'$|{k}>$' for k in results.keys()]\n",
    "        xvals = np.arange(len(results.keys()))\n",
    "        yvals = [results[k] for k in results.keys()]\n",
    "        ax.bar(labels, yvals, facecolor='DarkOrange', edgecolor='Gold', linewidth=4)\n",
    "        ax.tick_params(axis='x', labelrotation=80)\n",
    "        ax.set_xlabel('Qubit States')\n",
    "        ax.set_ylabel('Count')\n",
    "        ax.set_title(plottitle)\n",
    "        fig.show()\n",
    "\n",
    "def _setupqubits(num_qubits, hqubits):\n",
    "    qubits = [f'|{i}>' for i in range(1,num_qubits+1)]\n",
    "    if hqubits == None:\n",
    "        hqubits = qubits\n",
    "    else:\n",
    "        # parse the hqubit list to ensure that it works\n",
    "        newhqubits = []\n",
    "        for q in hqubits:\n",
    "            if q >=0 and q<num_qubits:\n",
    "                newhqubits.append(qubits[q])\n",
    "        if len(newhqubits)>0:\n",
    "            hqubits = newhqubits \n",
    "        else:\n",
    "            hqubits = qubits\n",
    "    return qubits, hqubits \n",
    "\n",
    "def MakeCircuit(num_qubits : int = 1, \n",
    "                add_H : bool = True, \n",
    "                add_CNOT : bool = True,\n",
    "                hqubits : list = None,\n",
    "               ):\n",
    "    \"\"\"\n",
    "    Construct a circuit with a certain number of qubits\n",
    "    \"\"\"\n",
    "    qubits, hqubits = _setupqubits(num_qubits, hqubits)\n",
    "    # circuit     \n",
    "    dev = qml.device(\"default.qubit\", wires=qubits)\n",
    "    @qml.qnode(dev)\n",
    "    def circuit(qubits, add_H, add_CNOT, hqubits):\n",
    "        if add_H: \n",
    "            for q in hqubits:\n",
    "                qml.Hadamard(wires=q)\n",
    "        if add_CNOT and len(qubits)>1: \n",
    "            for q in qubits[1:]:\n",
    "                qml.CNOT([qubits[0],q])\n",
    "        return qml.counts(all_outcomes=True)\n",
    "    # plotting circuit\n",
    "    fig, ax = qml.draw_mpl(circuit, show_all_wires=True)(qubits, add_H, add_CNOT, hqubits)\n",
    "    fig.show()\n",
    "\n",
    "\n",
    "def MakeAndRunCircuit(num_shots :int = 100, \n",
    "                      num_qubits : int = 1, \n",
    "                      add_H : bool = True, \n",
    "                      add_CNOT : bool = True, \n",
    "                      hqubits : list = None\n",
    "                     ):\n",
    "    \"\"\"\n",
    "    Construct a circuit with a certain number of qubits and run a certain number of shots\n",
    "    \"\"\"\n",
    "    max_nshots = 10000\n",
    "    max_nqubits = 30\n",
    "    qubits, hqubits = _setupqubits(num_qubits, hqubits)\n",
    "\n",
    "    dev = qml.device(\"default.qubit\", wires=qubits)\n",
    "    @qml.qnode(dev)\n",
    "    def circuit(qubits, add_H, add_CNOT, hqubits):\n",
    "        if add_H: \n",
    "            for q in hqubits:\n",
    "                qml.Hadamard(wires=q)\n",
    "        if add_CNOT and len(qubits)>1: \n",
    "            for q in qubits[1:]:\n",
    "                qml.CNOT([qubits[0],q])\n",
    "        return qml.counts(all_outcomes=True)\n",
    "\n",
    "    fig, ax = qml.draw_mpl(circuit, show_all_wires=True)(qubits, add_H, add_CNOT, hqubits)\n",
    "    fig.show()\n",
    "    if (num_shots > max_nshots) or (num_qubits > max_nqubits):\n",
    "        display(Markdown('# WARNING'))\n",
    "        display(Markdown('You have asked to simulate either too many shots (measurements) or too many qubits. ***NOT SIMULATING***'))\n",
    "        display(Markdown(f'* *Number of measurements should be $<{max_nshots}$ and requested:* {num_shots}'))\n",
    "        display(Markdown(f'* *Number of qubits should be $<{max_nqubits}$ and requested:* {num_qubits}. This would require {2**(num_qubits-30)} GB of memory and take a long time to simulate'))\n",
    "    else:\n",
    "        # now you try running more shots by running the circuit again. \n",
    "        results = circuit(qubits, add_H, add_CNOT, hqubits, shots=num_shots)\n",
    "        # here plot the results\n",
    "        PlotPennyLaneHisto(results, f'Measurment results from {num_shots} measurements')"
   ]
  },
  {
   "cell_type": "markdown",
   "metadata": {
    "id": "2zoa7nVZshfF"
   },
   "source": [
    "## Qubits\n",
    "\n",
    "#### PJE add figure of bit vs qubit\n",
    "\n",
    "### Classical vs Quantum Bit\n",
    "\n",
    "* Classical: digital representation of either 0 *or* 1. Fundamental unit of digital information.\n",
    "* Quantum: often refered to as qubit, fundamental unit of quantum information, analogous to the classical bit. However, here the quantum state holding the information can exist in a *superposition* of states, meaning they can be 0, 1, or ***both 0 and 1 simultaneously***! \n",
    "\n",
    "Often you'll see that qubits are written a little differently (using the so-called *braket* or *Dirac* notation). The 0-state is often written as $\\ket{0}$ and 1 as $\\ket{1}$. A 4-bit qubit, with qubits $q_0, q_1, q_2, q_3$ is $\\ket{q_1q_2q_3q_4}$. \n",
    "\n",
    "*For more information, see [wikipedia](https://en.wikipedia.org/wiki/Qubit).*"
   ]
  },
  {
   "cell_type": "markdown",
   "metadata": {},
   "source": [
    "## Quantum Superposition & Measurement\n",
    "#### PJE add figure of superposition\n",
    "\n",
    "Superposition is where a qubit can be in both 0 and 1 states at the same time. This mixed state is **NOT** directly measured. Instead measurement of a qubit will return a $\\ket{0}$ **or** $\\ket{1}$, *not both*.\n",
    "\n",
    "*How do you know the qubit was in a mixed state before the measurement occurs?* **By repeating the experiment and measurment.** You will see that the qubit will be 0 or 1 with the probability being dependent on the mixed state.\n",
    "\n",
    "*For more information, see [wikipedia](https://en.wikipedia.org/wiki/Quantum_superposition).*"
   ]
  },
  {
   "cell_type": "markdown",
   "metadata": {
    "id": "hF3tcJCE3YyE"
   },
   "source": [
    "## Quantum Interference & Entanglement \n",
    "\n",
    "#### PJE add figure of entanglement\n",
    "\n",
    "Quantum entanglement is the a unique feature of quantum mechanics (the physics that governs the small-scale universe) that not present in classical mechanics that well describes our day-to-day world (cars, planes, footballs). The phenomenon is when quantum states are interacting in such a way that the quantum state of each particle of the group cannot be described independently of the state of the others, even when particles are separated by a large distance (\"spooky-action-at-a-distance\")\n",
    "\n",
    "### The Qubit perspective \n",
    "\n",
    "Let's think about *qubits*. If we have two qubits $\\ket{\\Psi_1}$ \\& $\\ket{\\Psi_2}$ and a total system state of $\\ket{\\Psi} = \\ket{\\Psi_1\\Psi_2}$. Now if qubit 1 was in the $\\ket{0}$ state and qubit 2 was in $\\ket{1}$, then the total system state is written as \n",
    "$$\n",
    "\\ket{\\Psi} = \\ket{\\Psi_1\\Psi_2} = \\ket{01}\n",
    "$$\n",
    "\n",
    "If instead these qubits were in both in *equal* superposition then you would have \n",
    "$$\n",
    "\\ket{\\Psi} = \\ket{\\Psi_1\\Psi_2} = \\tfrac{1}{2}\\bigl(\\ket{00}+ \\ket{01}+\\ket{10}+\\ket{11}\\bigr)\n",
    "$$\n",
    "and you would get state $\\ket{00}$ $25\\%$ of the time, $\\ket{01}$ $25\\%$ of the time and so on, as if you were flipping two independent coins. But what happens if we ***entangle*** these states such that if qubit 2 is linked to the state of qubit 1. You get a $\\ket{0}$ for qubit 1, you get a $\\ket{0}$ for qubit 2 (that is the coins are linked). In this case we cannot get the states $\\ket{01}$ and $\\ket{10}$ because the states are entangled. \n",
    "\n",
    "Now consider these qubits if they are qubit 1 was in *equal* superposition, and qubit 2 is in $\\ket{0}$, then you couldn't get $\\ket{11}$. But because of the entanglement, the total state of the system, $\\ket{\\Psi}$ is \n",
    "$$\n",
    "\\ket{\\Psi} = \\ket{\\Psi_1\\Psi_2} = c\\bigl(\\ket{00}+\\ket{11}\\bigr)\n",
    "$$\n",
    "\n",
    "*For more information, see [wikipedia](https://en.wikipedia.org/wiki/Quantum_entanglement).*"
   ]
  },
  {
   "cell_type": "markdown",
   "metadata": {},
   "source": [
    "## Quantum Circuits\n",
    "\n",
    "Quantum programs (or algorithms) are often visualised as a *quantum circuit* as shown below. \n",
    "\n",
    "![3 Qubit Circuit](simple_circuit_annotated_small.png \"3 Qubit circuit\")\n",
    "\n",
    "This shows the evolution of qubits as a single line going from left to right. If you ever see a doubled lines that represent a classical bit. Quantum gates are shows as symbols on the line and the entire program is this sequence of operations on qubits.  These lines define the sequence of events, and are usually not physical cables. \n",
    "\n",
    "This is a nice way fo visualising a quantum program as it can show what happens to a given qubit and also which qubits are interacting (as shown by vertical lines with symbols ending on the qubit lines). "
   ]
  },
  {
   "cell_type": "markdown",
   "metadata": {
    "jp-MarkdownHeadingCollapsed": true
   },
   "source": [
    "## Simulating Quantum Computers and running Quantum Circuits\n",
    "\n",
    "There are a variety of tools out there which can simulate a quantum computer (albeit slowly and only for small qubit counts). In this notebook, we'll make use of a few of them, namely [**PennyLane**](https://pennylane.ai/) and [**Qiskit**](https://www.ibm.com/quantum/qiskit). We'll also use some nice tools like [**qmuvi**](https://github.com/garymooney/qmuvi) a visualisation tool and [**matplotlib**](https://matplotlib.org/)\n",
    "\n",
    "### PennyLane\n",
    "PennyLane is a cross-platform Python library for quantum computing, quantum machine learning, and quantum chemistry. We won't make use of all the functionality but the basics is that you can make use of a quantum computer simulator by invoking a device. \n",
    "\n",
    "```python\n",
    "import pennylane as qml\n",
    "# here `wires\n",
    "qml.device('default.qubit', wires=number_of_qubits)\n",
    "```\n",
    "\n",
    "You'll note some funny terminology such as `pennylane` often invoked as `qml` and `wires` being the number of qubits. Then to construct a circuit you need to define a function that places gates (operations) on the qubits in the circuit.\n",
    "\n",
    "```python\n",
    "# let's define a 2-qubit circuit that has some gates (to be discussed later)\n",
    "def circuit():\n",
    "    qml.NOT(wires=0)\n",
    "    qml.Hadamard(wires=1)\n",
    "    qml.CNOT([1,0])\n",
    "    return qml.counts(all_outcomes=True)\n",
    "\n",
    "```\n",
    "\n",
    "We'll make use of these basic idea's later. \n",
    "\n",
    "### Qiskit\n",
    "Qiskit is another library for quantum computing. Like PennyLane it has lots of nice functionality for simulating and working with quantum circuits.\n",
    "\n",
    "```python\n",
    "from qiskit import QuantumCircuit\n",
    "from qiskit.quantum_info import SparsePauliOp\n",
    "from qiskit.transpiler.preset_passmanagers import generate_preset_pass_manager\n",
    "from qiskit_ibm_runtime import EstimatorV2 as Estimator\n",
    " \n",
    "# Create a new circuit with two qubits\n",
    "qc = QuantumCircuit(2)\n",
    "# Add a NOT gate on qubit 1\n",
    "qc.x(0)\n",
    "# Add a Hadamard gate to qubit 1\n",
    "qc.h(1)\n",
    "# Perform a controlled-X gate on qubit 1, controlled by qubit 0\n",
    "qc.cx(0, 1)\n",
    "```"
   ]
  },
  {
   "cell_type": "markdown",
   "metadata": {},
   "source": [
    "## Superposition or Hadamard Gate\n",
    "\n",
    "One of the simplest instructions or operations you can apply to a qubit is the *Hadamard* gate, $H$, which essentially implements **superposition**, turning a state of $\\ket{0}$ or $\\ket{1}$ into an equal superposition of $\\ket{0}$ and $\\ket{1}$. More precisely \n",
    "$$H\\ket{0} = \\frac{\\ket{0}+\\ket{1}}{\\sqrt{2}}, \\quad H\\ket{1} = \\frac{\\ket{0}-\\ket{1}}{\\sqrt{2}}$$\n",
    "\n",
    "In both cases, one changes the qubit from just return it's initial state when being measured to giving either 0 or 1 with $50\\%$ probability. \n",
    "\n",
    "Let's consider a quantum circuit consisting of a single qubit starting in $\\ket{0}$ and applying a Hadarmard gate. "
   ]
  },
  {
   "cell_type": "code",
   "execution_count": 4,
   "metadata": {},
   "outputs": [
    {
     "data": {
      "image/png": "[encoded data removed]",
      "text/plain": [
       "<Figure size 400x200 with 1 Axes>"
      ]
     },
     "metadata": {},
     "output_type": "display_data"
    }
   ],
   "source": [
    "# sample code to draw a hadarmad gate using PennyLane\n",
    "# here \n",
    "dev = qml.device(\"default.qubit\", wires=[\"|q1>\"])\n",
    "\n",
    "# now simple circiut where we return the state of the qubits\n",
    "@qml.qnode(dev)\n",
    "def circuit():\n",
    "    qml.Hadamard(wires=\"|q1>\")\n",
    "    return qml.counts(all_outcomes=True)\n",
    "\n",
    "# plot the circuit\n",
    "fig, ax = qml.draw_mpl(circuit)()"
   ]
  },
  {
   "cell_type": "markdown",
   "metadata": {},
   "source": [
    "What could we expect if we measured the output of this circuit 10 times? 100 times? What happens if you do 1000 times?"
   ]
  },
  {
   "cell_type": "code",
   "execution_count": 5,
   "metadata": {},
   "outputs": [
    {
     "data": {
      "image/png": "[encoded data removed]",
      "text/plain": [
       "<Figure size 640x480 with 1 Axes>"
      ]
     },
     "metadata": {},
     "output_type": "display_data"
    },
    {
     "data": {
      "image/png": "[encoded data removed]",
      "text/plain": [
       "<Figure size 640x480 with 1 Axes>"
      ]
     },
     "metadata": {},
     "output_type": "display_data"
    }
   ],
   "source": [
    "# lets create a quantum device that will take 10 shots\n",
    "results = circuit(shots=10)\n",
    "# here plot the results\n",
    "PlotPennyLaneHisto(results, '10 shots')\n",
    "\n",
    "# now you try running more shots by running the circuit again. \n",
    "results = circuit(shots=100)\n",
    "# here plot the results\n",
    "PlotPennyLaneHisto(results, '100 shots')\n",
    "\n",
    "# what would you expect if you could infinitly sample the simple circuit?\n"
   ]
  },
  {
   "cell_type": "markdown",
   "metadata": {},
   "source": [
    "### What's the \"sound\" of a mixed state?\n",
    "\n",
    "To gain more understainding, let's look at using the **qmuvi** visualisation tool to see what is happening with the Hadamard gate. In a classical system, you can only have 0 or 1 but in the quantum system, while the state is not measured, it is a real mixture of 0 and 1. Let's consider a musical analogue. If we considered 0 to be a note and 1 being another then we should expect the music to start with a single note before the Hadamard gate is placed, then it should become two notes and when measured go back to one of the notes. \n",
    "\n",
    "Here we'll have to use Qiskit to create the circuit "
   ]
  },
  {
   "cell_type": "code",
   "execution_count": 6,
   "metadata": {},
   "outputs": [
    {
     "name": "stdout",
     "output_type": "stream",
     "text": [
      "Generating qMuVi data...\n",
      "Generating MIDI track files...\n",
      "Converting to .wav files using TiMidity++\n",
      "Errors in thread 0:\n"
     ]
    },
    {
     "ename": "CalledProcessError",
     "evalue": "Command '['/Users/ela017/software/pyvenv/lib/python3.9/site-packages/qmuvi/package_data/binaries/TiMidity-2.15.0/macos/timidity', '-Ow', '--preserve-silence', '-A,120', '--no-anti-alias', '--mod-wheel', '--portamento', '--vibrato', '--no-ch-pressure', '--mod-envelope', '--trace-text-meta', '--overlap-voice', '--default-bank=0', '--default-program=0', '--delay=d,0', '--chorus=n,64', '--reverb=f,40,0.28,0.7,100', '--voice-lpf=c', '--noise-shaping=4', '--resample=5', '--voice-queue=0', '--decay-time=0', '--interpolation=gauss', '-EFresamp=34', '--output-stereo', '--output-24bit', '--polyphony=15887', '--sampling-freq=44100', '--volume-curve=1.661', '--config-file=\"/Users/ela017/software/pyvenv/lib/python3.9/site-packages/qmuvi/package_data/resources/timidity/timidity.cfg\"', '-o', '\"/Users/ela017/myresearch/quantumcomputing/quantum-computing-hackathon/lessons/hadamard-output-5/hadamard-4.wav\"', '\"/Users/ela017/myresearch/quantumcomputing/quantum-computing-hackathon/lessons/hadamard-output-5/hadamard-4.mid\"']' returned non-zero exit status 1.",
     "output_type": "error",
     "traceback": [
      "\u001b[0;31m---------------------------------------------------------------------------\u001b[0m",
      "\u001b[0;31mCalledProcessError\u001b[0m                        Traceback (most recent call last)",
      "Cell \u001b[0;32mIn[6], line 10\u001b[0m\n\u001b[1;32m      6\u001b[0m circuit\u001b[38;5;241m.\u001b[39mbarrier()\n\u001b[1;32m      7\u001b[0m \u001b[38;5;66;03m# how to measure with qiskit that works with qmuvi?\u001b[39;00m\n\u001b[1;32m      8\u001b[0m \u001b[38;5;66;03m#circuit.\u001b[39;00m\n\u001b[0;32m---> 10\u001b[0m \u001b[43mqmuvi\u001b[49m\u001b[38;5;241;43m.\u001b[39;49m\u001b[43mgenerate_qmuvi\u001b[49m\u001b[43m(\u001b[49m\u001b[43mcircuit\u001b[49m\u001b[43m,\u001b[49m\u001b[43m \u001b[49m\u001b[38;5;124;43m\"\u001b[39;49m\u001b[38;5;124;43mhadamard\u001b[39;49m\u001b[38;5;124;43m\"\u001b[39;49m\u001b[43m)\u001b[49m\n",
      "File \u001b[0;32m~/software/pyvenv/lib/python3.9/site-packages/qmuvi/__init__.py:164\u001b[0m, in \u001b[0;36mgenerate_qmuvi\u001b[0;34m(quantum_circuit, qmuvi_name, noise_model, rhythm, instruments, note_map, invert_colours, fps, vpr, smooth_transitions, log_to_file, show_measured_probabilities_only, output_dir)\u001b[0m\n\u001b[1;32m    162\u001b[0m musical_processing\u001b[38;5;241m.\u001b[39mgenerate_midi_from_data(output_manager, instruments\u001b[38;5;241m=\u001b[39minstruments, note_map\u001b[38;5;241m=\u001b[39mnote_map, rhythm\u001b[38;5;241m=\u001b[39mrhythm)\n\u001b[1;32m    163\u001b[0m \u001b[38;5;66;03m# convert midi files to a wav file\u001b[39;00m\n\u001b[0;32m--> 164\u001b[0m \u001b[43mmusical_processing\u001b[49m\u001b[38;5;241;43m.\u001b[39;49m\u001b[43mconvert_midi_to_wav_timidity\u001b[49m\u001b[43m(\u001b[49m\u001b[43moutput_manager\u001b[49m\u001b[43m,\u001b[49m\u001b[43m \u001b[49m\u001b[43mlog_to_file\u001b[49m\u001b[38;5;241;43m=\u001b[39;49m\u001b[43mlog_to_file\u001b[49m\u001b[43m)\u001b[49m\n\u001b[1;32m    165\u001b[0m \u001b[38;5;66;03m# generate video from data\u001b[39;00m\n\u001b[1;32m    166\u001b[0m video_generation\u001b[38;5;241m.\u001b[39mgenerate_video_from_data(\n\u001b[1;32m    167\u001b[0m     quantum_circuit,\n\u001b[1;32m    168\u001b[0m     output_manager\u001b[38;5;241m=\u001b[39moutput_manager,\n\u001b[0;32m   (...)\u001b[0m\n\u001b[1;32m    174\u001b[0m     show_measured_probabilities_only\u001b[38;5;241m=\u001b[39mshow_measured_probabilities_only,\n\u001b[1;32m    175\u001b[0m )\n",
      "File \u001b[0;32m~/software/pyvenv/lib/python3.9/site-packages/qmuvi/musical_processing.py:469\u001b[0m, in \u001b[0;36mconvert_midi_to_wav_timidity\u001b[0;34m(output_manager, timeout, log_to_file)\u001b[0m\n\u001b[1;32m    466\u001b[0m         log\u001b[38;5;241m.\u001b[39minfo(thread_results[thread_index]\u001b[38;5;241m.\u001b[39mstdout\u001b[38;5;241m.\u001b[39mdecode())\n\u001b[1;32m    467\u001b[0m         log\u001b[38;5;241m.\u001b[39minfo(thread_results[thread_index]\u001b[38;5;241m.\u001b[39mstderr\u001b[38;5;241m.\u001b[39mdecode())\n\u001b[0;32m--> 469\u001b[0m \u001b[43mconvert_files_mid_to_wav_timidity_threading\u001b[49m\u001b[43m(\u001b[49m\u001b[43mfiles\u001b[49m\u001b[43m,\u001b[49m\u001b[43m \u001b[49m\u001b[43moptions_string\u001b[49m\u001b[43m,\u001b[49m\u001b[43m \u001b[49m\u001b[43mtimidity_convert_subprocess\u001b[49m\u001b[43m,\u001b[49m\u001b[43m \u001b[49m\u001b[43mtimeout\u001b[49m\u001b[38;5;241;43m=\u001b[39;49m\u001b[43mtimeout\u001b[49m\u001b[43m)\u001b[49m\n\u001b[1;32m    471\u001b[0m files \u001b[38;5;241m=\u001b[39m output_manager\u001b[38;5;241m.\u001b[39mglob(output_manager\u001b[38;5;241m.\u001b[39mdefault_name \u001b[38;5;241m+\u001b[39m \u001b[38;5;124m\"\u001b[39m\u001b[38;5;124m-*.wav\u001b[39m\u001b[38;5;124m\"\u001b[39m)\n\u001b[1;32m    472\u001b[0m \u001b[38;5;28;01mif\u001b[39;00m \u001b[38;5;28mlen\u001b[39m(files) \u001b[38;5;241m>\u001b[39m \u001b[38;5;241m1\u001b[39m:\n",
      "File \u001b[0;32m~/software/pyvenv/lib/python3.9/site-packages/qmuvi/musical_processing.py:597\u001b[0m, in \u001b[0;36mconvert_files_mid_to_wav_timidity_threading\u001b[0;34m(pathnames, options_string, timidity_convert_method, timeout)\u001b[0m\n\u001b[1;32m    594\u001b[0m \u001b[38;5;28;01mif\u001b[39;00m thread_errors[thread_index] \u001b[38;5;129;01mis\u001b[39;00m \u001b[38;5;129;01mnot\u001b[39;00m \u001b[38;5;28;01mNone\u001b[39;00m:\n\u001b[1;32m    595\u001b[0m     \u001b[38;5;66;03m# an error occured in the thread, show the error\u001b[39;00m\n\u001b[1;32m    596\u001b[0m     \u001b[38;5;28mprint\u001b[39m(\u001b[38;5;124mf\u001b[39m\u001b[38;5;124m\"\u001b[39m\u001b[38;5;124mErrors in thread \u001b[39m\u001b[38;5;132;01m{\u001b[39;00mthread_index\u001b[38;5;132;01m}\u001b[39;00m\u001b[38;5;124m:\u001b[39m\u001b[38;5;124m\"\u001b[39m)\n\u001b[0;32m--> 597\u001b[0m     \u001b[38;5;28;01mraise\u001b[39;00m thread_errors[thread_index][\u001b[38;5;241m0\u001b[39m]\n\u001b[1;32m    599\u001b[0m \u001b[38;5;28;01mif\u001b[39;00m thread_result\u001b[38;5;241m.\u001b[39mreturncode \u001b[38;5;241m!=\u001b[39m \u001b[38;5;241m0\u001b[39m:\n\u001b[1;32m    600\u001b[0m     \u001b[38;5;66;03m# timidity command failed in subprocess, show subprocess stdout and stderr\u001b[39;00m\n\u001b[1;32m    601\u001b[0m     \u001b[38;5;28mprint\u001b[39m(\u001b[38;5;124mf\u001b[39m\u001b[38;5;124m\"\u001b[39m\u001b[38;5;124mError from Timidity++ converting file \u001b[39m\u001b[38;5;132;01m{\u001b[39;00mfilename\u001b[38;5;132;01m}\u001b[39;00m\u001b[38;5;124m\"\u001b[39m)\n",
      "File \u001b[0;32m~/software/pyvenv/lib/python3.9/site-packages/qmuvi/musical_processing.py:456\u001b[0m, in \u001b[0;36mconvert_midi_to_wav_timidity.<locals>.timidity_convert_subprocess\u001b[0;34m(filename, options_string, thread_results, thread_errors, thread_index)\u001b[0m\n\u001b[1;32m    453\u001b[0m     log\u001b[38;5;241m.\u001b[39minfo(\u001b[38;5;124mf\u001b[39m\u001b[38;5;124m\"\u001b[39m\u001b[38;5;124mtimidity options: \u001b[39m\u001b[38;5;132;01m{\u001b[39;00moptions_string\u001b[38;5;132;01m}\u001b[39;00m\u001b[38;5;124m\"\u001b[39m)\n\u001b[1;32m    454\u001b[0m     log\u001b[38;5;241m.\u001b[39mdebug(\u001b[38;5;124mf\u001b[39m\u001b[38;5;124m\"\u001b[39m\u001b[38;5;124mexecuting subprocess command: \u001b[39m\u001b[38;5;132;01m{\u001b[39;00mcommand\u001b[38;5;132;01m}\u001b[39;00m\u001b[38;5;124m\"\u001b[39m)\n\u001b[0;32m--> 456\u001b[0m thread_results[thread_index] \u001b[38;5;241m=\u001b[39m \u001b[43msubprocess\u001b[49m\u001b[38;5;241;43m.\u001b[39;49m\u001b[43mrun\u001b[49m\u001b[43m(\u001b[49m\u001b[43mcommand\u001b[49m\u001b[43m,\u001b[49m\u001b[43m \u001b[49m\u001b[43mcwd\u001b[49m\u001b[38;5;241;43m=\u001b[39;49m\u001b[43mpackage_path\u001b[49m\u001b[43m,\u001b[49m\u001b[43m \u001b[49m\u001b[43mcapture_output\u001b[49m\u001b[38;5;241;43m=\u001b[39;49m\u001b[38;5;28;43;01mTrue\u001b[39;49;00m\u001b[43m,\u001b[49m\u001b[43m \u001b[49m\u001b[43mcheck\u001b[49m\u001b[38;5;241;43m=\u001b[39;49m\u001b[38;5;28;43;01mTrue\u001b[39;49;00m\u001b[43m,\u001b[49m\u001b[43m \u001b[49m\u001b[43mshell\u001b[49m\u001b[38;5;241;43m=\u001b[39;49m\u001b[43mshell\u001b[49m\u001b[43m)\u001b[49m\n\u001b[1;32m    458\u001b[0m \u001b[38;5;28;01mif\u001b[39;00m log_to_file \u001b[38;5;129;01mis\u001b[39;00m \u001b[38;5;28;01mTrue\u001b[39;00m:\n\u001b[1;32m    459\u001b[0m     log\u001b[38;5;241m.\u001b[39mdebug(\u001b[38;5;124m\"\u001b[39m\u001b[38;5;124mcompleted subprocess\u001b[39m\u001b[38;5;124m\"\u001b[39m)\n",
      "File \u001b[0;32m~/.pyenv/versions/3.9.4/lib/python3.9/subprocess.py:528\u001b[0m, in \u001b[0;36mrun\u001b[0;34m(input, capture_output, timeout, check, *popenargs, **kwargs)\u001b[0m\n\u001b[1;32m    526\u001b[0m     retcode \u001b[38;5;241m=\u001b[39m process\u001b[38;5;241m.\u001b[39mpoll()\n\u001b[1;32m    527\u001b[0m     \u001b[38;5;28;01mif\u001b[39;00m check \u001b[38;5;129;01mand\u001b[39;00m retcode:\n\u001b[0;32m--> 528\u001b[0m         \u001b[38;5;28;01mraise\u001b[39;00m CalledProcessError(retcode, process\u001b[38;5;241m.\u001b[39margs,\n\u001b[1;32m    529\u001b[0m                                  output\u001b[38;5;241m=\u001b[39mstdout, stderr\u001b[38;5;241m=\u001b[39mstderr)\n\u001b[1;32m    530\u001b[0m \u001b[38;5;28;01mreturn\u001b[39;00m CompletedProcess(process\u001b[38;5;241m.\u001b[39margs, retcode, stdout, stderr)\n",
      "\u001b[0;31mCalledProcessError\u001b[0m: Command '['/Users/ela017/software/pyvenv/lib/python3.9/site-packages/qmuvi/package_data/binaries/TiMidity-2.15.0/macos/timidity', '-Ow', '--preserve-silence', '-A,120', '--no-anti-alias', '--mod-wheel', '--portamento', '--vibrato', '--no-ch-pressure', '--mod-envelope', '--trace-text-meta', '--overlap-voice', '--default-bank=0', '--default-program=0', '--delay=d,0', '--chorus=n,64', '--reverb=f,40,0.28,0.7,100', '--voice-lpf=c', '--noise-shaping=4', '--resample=5', '--voice-queue=0', '--decay-time=0', '--interpolation=gauss', '-EFresamp=34', '--output-stereo', '--output-24bit', '--polyphony=15887', '--sampling-freq=44100', '--volume-curve=1.661', '--config-file=\"/Users/ela017/software/pyvenv/lib/python3.9/site-packages/qmuvi/package_data/resources/timidity/timidity.cfg\"', '-o', '\"/Users/ela017/myresearch/quantumcomputing/quantum-computing-hackathon/lessons/hadamard-output-5/hadamard-4.wav\"', '\"/Users/ela017/myresearch/quantumcomputing/quantum-computing-hackathon/lessons/hadamard-output-5/hadamard-4.mid\"']' returned non-zero exit status 1."
     ]
    }
   ],
   "source": [
    "# c\n",
    "circuit = QuantumCircuit(1)\n",
    "# Barrier gates tell qMuVi where to sample the state in the circuit. It's like you are measuring the system with out truly collapsing the state\n",
    "circuit.barrier()\n",
    "circuit.h(0)\n",
    "circuit.barrier()\n",
    "# how to measure with qiskit that works with qmuvi?\n",
    "#circuit.\n",
    "\n",
    "qmuvi.generate_qmuvi(circuit, \"hadamard\")"
   ]
  },
  {
   "cell_type": "markdown",
   "metadata": {},
   "source": [
    "### Playing with Hadamard's \n",
    "\n",
    "#### Interactive widget\n",
    "We can make use of an interactive tool to create and run some plots. Lets try just visualising some circuits. Then we'll try running a simulation of a quantum circuit. Try running more than one qubit or more than one gate per qubit. What do you see?\n",
    "\n",
    "#### Custom\n",
    "If you really interested, look at the boiler plate code in the section below and try playing with it. \n"
   ]
  },
  {
   "cell_type": "code",
   "execution_count": 27,
   "metadata": {},
   "outputs": [
    {
     "data": {
      "application/vnd.jupyter.widget-view+json": {
       "model_id": "361f8a7227894cc6a98fc9f2714f2e63",
       "version_major": 2,
       "version_minor": 0
      },
      "text/plain": [
       "interactive(children=(IntSlider(value=2, description='num_qubits', max=30, min=1), Checkbox(value=True, descri…"
      ]
     },
     "metadata": {},
     "output_type": "display_data"
    },
    {
     "data": {
      "text/plain": [
       "<function __main__.MakeCircuit(num_qubits: int = 1, add_H: bool = True, add_CNOT: bool = True, hqubits: list = None)>"
      ]
     },
     "execution_count": 27,
     "metadata": {},
     "output_type": "execute_result"
    }
   ],
   "source": [
    "# here's an interactive widget \n",
    "interact(MakeCircuit, num_qubits=widgets.IntSlider(min=1, max=30, step=1, value=2), \n",
    "         add_H=True, \n",
    "         add_CNOT = fixed(False), \n",
    "         hqubits=fixed(None))"
   ]
  },
  {
   "cell_type": "markdown",
   "metadata": {},
   "source": [
    "You can even try simulating the output of a quantum computer"
   ]
  },
  {
   "cell_type": "code",
   "execution_count": 28,
   "metadata": {},
   "outputs": [
    {
     "data": {
      "application/vnd.jupyter.widget-view+json": {
       "model_id": "1ef76c2910674f69a09605d06d169c81",
       "version_major": 2,
       "version_minor": 0
      },
      "text/plain": [
       "interactive(children=(IntSlider(value=10, description='num_shots', max=10000, min=10, step=5), IntSlider(value…"
      ]
     },
     "metadata": {},
     "output_type": "display_data"
    },
    {
     "data": {
      "text/plain": [
       "<function __main__.MakeAndRunCircuit(num_shots: int = 100, num_qubits: int = 1, add_H: bool = True, add_CNOT: bool = True, hqubits: list = None)>"
      ]
     },
     "execution_count": 28,
     "metadata": {},
     "output_type": "execute_result"
    }
   ],
   "source": [
    "interact(MakeAndRunCircuit, \n",
    "         num_shots=widgets.IntSlider(min=10, max=10000, step=5, value=10), \n",
    "         num_qubits=widgets.IntSlider(min=1, max=10, step=1, value=2), \n",
    "         add_H=True, \n",
    "         add_CNOT = fixed(False), \n",
    "         hqubits=fixed(None))"
   ]
  },
  {
   "cell_type": "code",
   "execution_count": 30,
   "metadata": {},
   "outputs": [
    {
     "ename": "SyntaxError",
     "evalue": "invalid syntax (2848303606.py, line 5)",
     "output_type": "error",
     "traceback": [
      "\u001b[0;36m  Cell \u001b[0;32mIn[30], line 5\u001b[0;36m\u001b[0m\n\u001b[0;31m    num_qubits =\u001b[0m\n\u001b[0m                 ^\u001b[0m\n\u001b[0;31mSyntaxError\u001b[0m\u001b[0;31m:\u001b[0m invalid syntax\n"
     ]
    }
   ],
   "source": [
    "# Here is the boiler plate\n",
    "# you can list the qubits and pass wires\n",
    "\n",
    "# initialise a device with lets say some number of qubits (which you can directly pass to wires)\n",
    "num_qubits = \n",
    "dev = qml.device(\"default.qubit\", wires=num_qubits)\n",
    "@qml.qnode(dev)\n",
    "def circuit():\n",
    "    # add your circuits here\n",
    "    # for example to add a hadamard gate to the first qubit \n",
    "    # qml.Hadamard(wires=0)\n",
    "    # what happens if you apply two hadamard gates to a single qubit?\n",
    "    \n",
    "    return qml.counts(all_outcomes=True)\n",
    "\n",
    "# lets look at the circuit\n",
    "fig, ax = qml.draw_mpl(circuit)()\n",
    "\n",
    "# then run the circuit and plot the result. How many shots do you think you need to take to really get the ideal (true) result?\n",
    "num_shots = \n",
    "results = circuit(shots=num_shots)\n",
    "PlotPennyLaneHisto(results, f' {num_shots} shots')\n"
   ]
  },
  {
   "cell_type": "markdown",
   "metadata": {},
   "source": [
    "## Entanglement or \"CNOT\" Gate\n",
    "\n",
    "Another of the simplest instructions or operations you can apply to two qubits is the *Controlled NOT (CNOT)* gate, $CNOT(\\textrm{qubit}_{1}, \\textrm{qubit}_{2})$ which essentially implements entanglement. It entangles two qubits so that the state of the second qubit is dependent on the state of the first. The CNOT gate flips the second qubit (the target qubit) if and only if the first qubit (the control qubit) is $\\ket{1}$. So if we look at table of what happens before and after entanglement we see \n",
    "\n",
    "| Before       |              | | After        |              |\n",
    "| ------------ | ------------ | - | ------------ | ------------ |\n",
    "| Control $\\ket{q_1}$ | Target $\\ket{q_2}$  | $\\rightarrow$ | Control $\\ket{q_1}$  | Target $\\ket{q_2}$  |\n",
    "| $\\ket{0}$    | $\\ket{0}$    | $\\rightarrow$ | $\\ket{0}$    | $\\ket{0}$    |\n",
    "| $\\ket{1}$    | $\\ket{0}$    | $\\rightarrow$ |  $\\ket{1}$    | $\\ket{1}$    |\n",
    "| $\\ket{0}$    | $\\ket{1}$    | $\\rightarrow$ |  $\\ket{0}$    | $\\ket{1}$    |\n",
    "| $\\ket{1}$    | $\\ket{1}$    | $\\rightarrow$ |  $\\ket{1}$    | $\\ket{0}$    |\n",
    "\n",
    "\n",
    "You can view this as an a classical computers *if* statement, where you change something based on a condition, though here it is important to remember that you don't know what the outcome is till you measure the qubits. These entangled two-qubit states are sometimes referred to as *Bell* states. "
   ]
  },
  {
   "cell_type": "code",
   "execution_count": null,
   "metadata": {},
   "outputs": [],
   "source": [
    "# sample code to draw a CNOT gate using PennyLane\n",
    "# here \n",
    "dev = qml.device(\"default.qubit\", wires=[\"|q1>\", \"|q2>\"])\n",
    "\n",
    "# now simple circiut where we return the state of the qubits\n",
    "@qml.qnode(dev)\n",
    "def circuit():\n",
    "    # CNOT takes a list of two qubits with the first being the control and the second being the qubit being entangled.  \n",
    "    qml.CNOT([\"|q1>\",\"|q2>\"])\n",
    "    return qml.counts(all_outcomes=True)\n",
    "\n",
    "# plot the circuit\n",
    "fig, ax = qml.draw_mpl(circuit, show_all_wires=True)()"
   ]
  },
  {
   "cell_type": "markdown",
   "metadata": {},
   "source": [
    "Now this CNOT gate is not exceptionally useful on its own but combined with superposition, it can be very useful. Let's consider the following circuits where the first qubit is in superposition:"
   ]
  },
  {
   "cell_type": "code",
   "execution_count": null,
   "metadata": {},
   "outputs": [],
   "source": [
    "# sample code to draw a CNOT gate using PennyLane\n",
    "dev = qml.device(\"default.qubit\", wires=[\"|q1>\", \"|q2>\"])\n",
    "\n",
    "# now simple circiut where we return the state of the qubits\n",
    "@qml.qnode(dev)\n",
    "def circuit():\n",
    "    qml.Hadamard(wires=\"|q1>\")\n",
    "    qml.CNOT([\"|q1>\",\"|q2>\"])\n",
    "    return qml.counts(all_outcomes=True)\n",
    "\n",
    "@qml.qnode(dev)\n",
    "def circuitnoCNOT():\n",
    "    qml.Hadamard(wires=\"|q1>\")\n",
    "    return qml.counts(all_outcomes=True)\n",
    "\n",
    "# plot the circuit\n",
    "fig, ax = qml.draw_mpl(circuitnoCNOT, show_all_wires=True)()\n",
    "fig, ax = qml.draw_mpl(circuit, show_all_wires=True)()\n"
   ]
  },
  {
   "cell_type": "code",
   "execution_count": null,
   "metadata": {},
   "outputs": [],
   "source": [
    "# lets create the quantum device and run the noCNOT circuit\n",
    "dev = qml.device(\"default.qubit\", wires=[\"|q1>\", \"|q2>\"])\n",
    "\n",
    "@qml.qnode(dev)\n",
    "def circuitnoCNOT():\n",
    "    qml.Hadamard(wires=\"|q1>\")\n",
    "    return qml.counts(all_outcomes=True)\n",
    "results = circuitnoCNOT(shots=100)\n",
    "# here plot the results\n",
    "PlotPennyLaneHisto(results, '100 shots, no CNOT')"
   ]
  },
  {
   "cell_type": "markdown",
   "metadata": {},
   "source": [
    "Here, we see that we get either $\\ket{00}$ or $\\ket{10}$ with equal probability. What do you expect to see if you have a CNOT? (discuss then try uncommenting the results)"
   ]
  },
  {
   "cell_type": "code",
   "execution_count": null,
   "metadata": {},
   "outputs": [],
   "source": [
    "# now do the same with CNOT\n",
    "dev = qml.device(\"default.qubit\", wires=[\"|q1>\", \"|q2>\"])\n",
    "\n",
    "# now simple circiut where we return the state of the qubits\n",
    "@qml.qnode(dev)\n",
    "def circuit():\n",
    "    qml.Hadamard(wires=\"|q1>\")\n",
    "    qml.CNOT([\"|q1>\",\"|q2>\"])\n",
    "    return qml.counts(all_outcomes=True)\n",
    "\n",
    "results = circuit(shots=100)\n",
    "# here plot the results\n",
    "# PlotPennyLaneHisto(results, '100 shots, apply CNOT')"
   ]
  },
  {
   "cell_type": "markdown",
   "metadata": {},
   "source": [
    "### Playing with CNOT's \n",
    "\n",
    "Let the Hadarmard gates, let's try a simple interactive setup. \n",
    "\n",
    "If you are really interested, you can try playing with the boiler plate code as well. \n",
    "Try playing with this gate with the boiler plate code below. Try running more than two qubits and entangling lot of them. What do you see"
   ]
  },
  {
   "cell_type": "code",
   "execution_count": 35,
   "metadata": {},
   "outputs": [
    {
     "data": {
      "application/vnd.jupyter.widget-view+json": {
       "model_id": "843b2e46c8ce4cb186da494030e27dd2",
       "version_major": 2,
       "version_minor": 0
      },
      "text/plain": [
       "interactive(children=(IntSlider(value=10, description='num_shots', max=10000, min=10, step=5), IntSlider(value…"
      ]
     },
     "metadata": {},
     "output_type": "display_data"
    },
    {
     "data": {
      "text/plain": [
       "<function __main__.MakeAndRunCircuit(num_shots: int = 100, num_qubits: int = 1, add_H: bool = True, add_CNOT: bool = True, hqubits: list = None)>"
      ]
     },
     "execution_count": 35,
     "metadata": {},
     "output_type": "execute_result"
    }
   ],
   "source": [
    "# note here that I've added a hadamard to the first qubit\n",
    "# consider trying to play with this\n",
    "hadamard_set = [0]\n",
    "interact(MakeAndRunCircuit, \n",
    "         num_shots=widgets.IntSlider(min=10, max=10000, step=5, value=10), \n",
    "         num_qubits=widgets.IntSlider(min=1, max=10, step=1, value=2), \n",
    "         add_H=fixed(True), \n",
    "         add_CNOT = fixed(True), \n",
    "         hqubits=fixed(hadamard_set))"
   ]
  },
  {
   "cell_type": "code",
   "execution_count": 31,
   "metadata": {},
   "outputs": [],
   "source": [
    "# now boiler plate code for CNOT\n",
    "dev = qml.device(\"default.qubit\", wires=[\"|q1>\", \"|q2>\", \"|q3>\",])\n",
    "\n",
    "# now simple circiut where we return the state of the qubits\n",
    "@qml.qnode(dev)\n",
    "def circuit():\n",
    "    qml.Hadamard(wires=\"|q1>\")\n",
    "    qml.CNOT([\"|q1>\",\"|q2>\"])\n",
    "    return qml.counts(all_outcomes=True)\n",
    "# what does your circuit look like \n",
    "# fig, ax = qml.draw_mpl(circuit, show_all_wires=True)()\n",
    "\n",
    "# lets create a quantum device that will take 100 shots\n",
    "results = circuit(shots=100)\n",
    "# here plot the results\n",
    "# PlotPennyLaneHisto(results, 'Your experiment')"
   ]
  },
  {
   "cell_type": "markdown",
   "metadata": {
    "id": "r7k35V66jeCc"
   },
   "source": [
    "## References\n",
    "\n",
    "* Some reference"
   ]
  },
  {
   "cell_type": "code",
   "execution_count": null,
   "metadata": {},
   "outputs": [],
   "source": []
  }
 ],
 "metadata": {
  "colab": {
   "provenance": []
  },
  "kernelspec": {
   "display_name": "Python 3 (ipykernel)",
   "language": "python",
   "name": "python3"
  },
  "language_info": {
   "codemirror_mode": {
    "name": "ipython",
    "version": 3
   },
   "file_extension": ".py",
   "mimetype": "text/x-python",
   "name": "python",
   "nbconvert_exporter": "python",
   "pygments_lexer": "ipython3",
   "version": "3.9.4"
  }
 },
 "nbformat": 4,
 "nbformat_minor": 4
}
